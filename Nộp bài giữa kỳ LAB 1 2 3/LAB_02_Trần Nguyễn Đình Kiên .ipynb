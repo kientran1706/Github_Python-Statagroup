{
  "nbformat": 4,
  "nbformat_minor": 0,
  "metadata": {
    "colab": {
      "provenance": []
    },
    "kernelspec": {
      "name": "python3",
      "display_name": "Python 3"
    },
    "language_info": {
      "name": "python"
    }
  },
  "cells": [
    {
      "cell_type": "markdown",
      "source": [
        "**CÁC GIẢI THUẬT PHÂN LOẠI CƠ BẢN**"
      ],
      "metadata": {
        "id": "bg3YJyHw8pYH"
      }
    },
    {
      "cell_type": "markdown",
      "source": [
        "*2.1. GIẢI THUẬT 1: CÂY QUYẾT ĐỊNH VÀ RỪNG CÂY*"
      ],
      "metadata": {
        "id": "xc4anmLU-9hv"
      }
    },
    {
      "cell_type": "markdown",
      "source": [
        "2.1.1. Ôn tập lý thuyết\n"
      ],
      "metadata": {
        "id": "fswwdp1K_Iyf"
      }
    },
    {
      "cell_type": "markdown",
      "source": [
        "2.1.2. Bài làm mẫu"
      ],
      "metadata": {
        "id": "SIPE-zcl_KJ_"
      }
    },
    {
      "cell_type": "markdown",
      "source": [
        "2.1.3. Bài tập thực hành 1\n",
        "Xây dựng cây quyết định và rừng cây trên dữ liệu Titanic lấy từ\n",
        "https://www.kaggle.com/code/dmilla/introduction-to-decision-trees-titanic-dataset\n"
      ],
      "metadata": {
        "id": "05nrJGkE_cZT"
      }
    },
    {
      "cell_type": "markdown",
      "source": [
        "**Nhiệm vụ 1: Xây dựng cây quyết định bằng thư viện Scikit-Learn**\n",
        "1. Import thư viện"
      ],
      "metadata": {
        "id": "c_Qs1w7M_eRX"
      }
    },
    {
      "cell_type": "code",
      "source": [
        "import numpy as np\n",
        "import pandas as pd\n",
        "import matplotlib.pyplot as plt\n",
        "import seaborn as sns\n",
        "\n",
        "%matplotlib inline\n",
        "import matplotlib as mpl\n",
        "mpl.rcParams['figure.dpi'] = 150\n",
        "import graphviz\n",
        "\n",
        "from sklearn.model_selection import train_test_split\n",
        "from sklearn import tree\n",
        "from sklearn.metrics import accuracy_score\n"
      ],
      "metadata": {
        "id": "sib4ay3VIEYT"
      },
      "execution_count": null,
      "outputs": []
    },
    {
      "cell_type": "markdown",
      "source": [
        "2. Nạp dữ liệu và tiền xử lý"
      ],
      "metadata": {
        "id": "ITpozDoiINg8"
      }
    },
    {
      "cell_type": "code",
      "source": [
        "# Đọc dữ liệu\n",
        "train_df = pd.read_csv(\"train.csv\")\n",
        "test_df = pd.read_csv(\"test.csv\")\n",
        "gender_submission = pd.read_csv(\"gender_submission.csv\")\n",
        "\n",
        "# Chọn các cột đặc trưng\n",
        "features = [\"Pclass\", \"Sex\", \"Age\", \"SibSp\", \"Parch\", \"Fare\", \"Embarked\"]\n",
        "full = pd.concat([train_df[features], test_df[features]], axis=0)\n",
        "\n",
        "# Xử lý dữ liệu thiếu\n",
        "full[\"Age\"].fillna(full[\"Age\"].median(), inplace=True)\n",
        "full[\"Fare\"].fillna(full[\"Fare\"].median(), inplace=True)\n",
        "full[\"Embarked\"].fillna(full[\"Embarked\"].mode()[0], inplace=True)\n",
        "\n",
        "# One-hot encoding cho biến phân loại\n",
        "full = pd.get_dummies(full, columns=[\"Sex\",\"Embarked\"], drop_first=True)\n",
        "\n",
        "# Chia lại thành train & test\n",
        "X_train = full.iloc[:len(train_df), :]\n",
        "X_test = full.iloc[len(train_df):, :]\n",
        "y_train = train_df[\"Survived\"].values\n"
      ],
      "metadata": {
        "colab": {
          "base_uri": "https://localhost:8080/"
        },
        "id": "gI7DaiRYIRk_",
        "outputId": "a3acf259-03ab-4e57-cd9d-69b9101c1510"
      },
      "execution_count": null,
      "outputs": [
        {
          "output_type": "stream",
          "name": "stderr",
          "text": [
            "/tmp/ipython-input-2071372016.py:11: FutureWarning: A value is trying to be set on a copy of a DataFrame or Series through chained assignment using an inplace method.\n",
            "The behavior will change in pandas 3.0. This inplace method will never work because the intermediate object on which we are setting values always behaves as a copy.\n",
            "\n",
            "For example, when doing 'df[col].method(value, inplace=True)', try using 'df.method({col: value}, inplace=True)' or df[col] = df[col].method(value) instead, to perform the operation inplace on the original object.\n",
            "\n",
            "\n",
            "  full[\"Age\"].fillna(full[\"Age\"].median(), inplace=True)\n",
            "/tmp/ipython-input-2071372016.py:12: FutureWarning: A value is trying to be set on a copy of a DataFrame or Series through chained assignment using an inplace method.\n",
            "The behavior will change in pandas 3.0. This inplace method will never work because the intermediate object on which we are setting values always behaves as a copy.\n",
            "\n",
            "For example, when doing 'df[col].method(value, inplace=True)', try using 'df.method({col: value}, inplace=True)' or df[col] = df[col].method(value) instead, to perform the operation inplace on the original object.\n",
            "\n",
            "\n",
            "  full[\"Fare\"].fillna(full[\"Fare\"].median(), inplace=True)\n",
            "/tmp/ipython-input-2071372016.py:13: FutureWarning: A value is trying to be set on a copy of a DataFrame or Series through chained assignment using an inplace method.\n",
            "The behavior will change in pandas 3.0. This inplace method will never work because the intermediate object on which we are setting values always behaves as a copy.\n",
            "\n",
            "For example, when doing 'df[col].method(value, inplace=True)', try using 'df.method({col: value}, inplace=True)' or df[col] = df[col].method(value) instead, to perform the operation inplace on the original object.\n",
            "\n",
            "\n",
            "  full[\"Embarked\"].fillna(full[\"Embarked\"].mode()[0], inplace=True)\n"
          ]
        }
      ]
    },
    {
      "cell_type": "markdown",
      "source": [
        "3. Chia train/test nhỏ hơn để đánh giá"
      ],
      "metadata": {
        "id": "0G2uWabAIWh_"
      }
    },
    {
      "cell_type": "code",
      "source": [
        "X_tr, X_val, y_tr, y_val = train_test_split(X_train, y_train,\n",
        "                                            test_size=0.2,\n",
        "                                            random_state=24)"
      ],
      "metadata": {
        "id": "HOxFIw6oJwtP"
      },
      "execution_count": null,
      "outputs": []
    },
    {
      "cell_type": "markdown",
      "source": [
        "4. Xây dựng cây quyết định\n"
      ],
      "metadata": {
        "id": "bVpJpXelKjAz"
      }
    },
    {
      "cell_type": "code",
      "source": [
        "dt = tree.DecisionTreeClassifier(max_depth=3, random_state=42)\n",
        "dt.fit(X_tr, y_tr)\n",
        "\n",
        "print(\"Train acc:\", accuracy_score(y_tr, dt.predict(X_tr)))\n",
        "print(\"Validation acc:\", accuracy_score(y_val, dt.predict(X_val)))"
      ],
      "metadata": {
        "colab": {
          "base_uri": "https://localhost:8080/"
        },
        "id": "8AQF6wiQPirX",
        "outputId": "3dcff649-0c79-44bd-8da0-d619aa79a1a6"
      },
      "execution_count": null,
      "outputs": [
        {
          "output_type": "stream",
          "name": "stdout",
          "text": [
            "Train acc: 0.8188202247191011\n",
            "Validation acc: 0.8156424581005587\n"
          ]
        }
      ]
    },
    {
      "cell_type": "markdown",
      "source": [
        "5. Hiển thị cây quyết định"
      ],
      "metadata": {
        "id": "RBgceOmbP_Ow"
      }
    },
    {
      "cell_type": "code",
      "source": [
        "dot_data = tree.export_graphviz(dt,\n",
        "    out_file=None,\n",
        "    filled=True,\n",
        "    rounded=True,\n",
        "    feature_names=X_tr.columns,\n",
        "    class_names=['Died','Survived'])\n",
        "graph = graphviz.Source(dot_data)\n",
        "graph"
      ],
      "metadata": {
        "colab": {
          "base_uri": "https://localhost:8080/",
          "height": 598
        },
        "id": "mEgKswK5QCMZ",
        "outputId": "f202fcbc-faf8-4d8d-893f-7f3d58bc6793"
      },
      "execution_count": null,
      "outputs": [
        {
          "output_type": "execute_result",
          "data": {
            "image/svg+xml": "<?xml version=\"1.0\" encoding=\"UTF-8\" standalone=\"no\"?>\n<!DOCTYPE svg PUBLIC \"-//W3C//DTD SVG 1.1//EN\"\n \"http://www.w3.org/Graphics/SVG/1.1/DTD/svg11.dtd\">\n<!-- Generated by graphviz version 2.43.0 (0)\n -->\n<!-- Title: Tree Pages: 1 -->\n<svg width=\"1047pt\" height=\"433pt\"\n viewBox=\"0.00 0.00 1047.00 433.00\" xmlns=\"http://www.w3.org/2000/svg\" xmlns:xlink=\"http://www.w3.org/1999/xlink\">\n<g id=\"graph0\" class=\"graph\" transform=\"scale(1 1) rotate(0) translate(4 429)\">\n<title>Tree</title>\n<polygon fill=\"white\" stroke=\"transparent\" points=\"-4,4 -4,-429 1043,-429 1043,4 -4,4\"/>\n<!-- 0 -->\n<g id=\"node1\" class=\"node\">\n<title>0</title>\n<path fill=\"#f6d3b9\" stroke=\"black\" d=\"M566,-425C566,-425 465,-425 465,-425 459,-425 453,-419 453,-413 453,-413 453,-354 453,-354 453,-348 459,-342 465,-342 465,-342 566,-342 566,-342 572,-342 578,-348 578,-354 578,-354 578,-413 578,-413 578,-419 572,-425 566,-425\"/>\n<text text-anchor=\"middle\" x=\"515.5\" y=\"-409.8\" font-family=\"Helvetica,sans-Serif\" font-size=\"14.00\">Sex_male &lt;= 0.5</text>\n<text text-anchor=\"middle\" x=\"515.5\" y=\"-394.8\" font-family=\"Helvetica,sans-Serif\" font-size=\"14.00\">gini = 0.477</text>\n<text text-anchor=\"middle\" x=\"515.5\" y=\"-379.8\" font-family=\"Helvetica,sans-Serif\" font-size=\"14.00\">samples = 712</text>\n<text text-anchor=\"middle\" x=\"515.5\" y=\"-364.8\" font-family=\"Helvetica,sans-Serif\" font-size=\"14.00\">value = [432, 280]</text>\n<text text-anchor=\"middle\" x=\"515.5\" y=\"-349.8\" font-family=\"Helvetica,sans-Serif\" font-size=\"14.00\">class = Died</text>\n</g>\n<!-- 1 -->\n<g id=\"node2\" class=\"node\">\n<title>1</title>\n<path fill=\"#7cbeee\" stroke=\"black\" d=\"M427,-306C427,-306 334,-306 334,-306 328,-306 322,-300 322,-294 322,-294 322,-235 322,-235 322,-229 328,-223 334,-223 334,-223 427,-223 427,-223 433,-223 439,-229 439,-235 439,-235 439,-294 439,-294 439,-300 433,-306 427,-306\"/>\n<text text-anchor=\"middle\" x=\"380.5\" y=\"-290.8\" font-family=\"Helvetica,sans-Serif\" font-size=\"14.00\">Pclass &lt;= 2.5</text>\n<text text-anchor=\"middle\" x=\"380.5\" y=\"-275.8\" font-family=\"Helvetica,sans-Serif\" font-size=\"14.00\">gini = 0.377</text>\n<text text-anchor=\"middle\" x=\"380.5\" y=\"-260.8\" font-family=\"Helvetica,sans-Serif\" font-size=\"14.00\">samples = 254</text>\n<text text-anchor=\"middle\" x=\"380.5\" y=\"-245.8\" font-family=\"Helvetica,sans-Serif\" font-size=\"14.00\">value = [64, 190]</text>\n<text text-anchor=\"middle\" x=\"380.5\" y=\"-230.8\" font-family=\"Helvetica,sans-Serif\" font-size=\"14.00\">class = Survived</text>\n</g>\n<!-- 0&#45;&gt;1 -->\n<g id=\"edge1\" class=\"edge\">\n<title>0&#45;&gt;1</title>\n<path fill=\"none\" stroke=\"black\" d=\"M468.66,-341.91C457.77,-332.47 446.09,-322.34 434.9,-312.65\"/>\n<polygon fill=\"black\" stroke=\"black\" points=\"437.1,-309.93 427.25,-306.02 432.52,-315.22 437.1,-309.93\"/>\n<text text-anchor=\"middle\" x=\"429.04\" y=\"-327.26\" font-family=\"Helvetica,sans-Serif\" font-size=\"14.00\">True</text>\n</g>\n<!-- 8 -->\n<g id=\"node9\" class=\"node\">\n<title>8</title>\n<path fill=\"#eba069\" stroke=\"black\" d=\"M695,-306C695,-306 602,-306 602,-306 596,-306 590,-300 590,-294 590,-294 590,-235 590,-235 590,-229 596,-223 602,-223 602,-223 695,-223 695,-223 701,-223 707,-229 707,-235 707,-235 707,-294 707,-294 707,-300 701,-306 695,-306\"/>\n<text text-anchor=\"middle\" x=\"648.5\" y=\"-290.8\" font-family=\"Helvetica,sans-Serif\" font-size=\"14.00\">Pclass &lt;= 1.5</text>\n<text text-anchor=\"middle\" x=\"648.5\" y=\"-275.8\" font-family=\"Helvetica,sans-Serif\" font-size=\"14.00\">gini = 0.316</text>\n<text text-anchor=\"middle\" x=\"648.5\" y=\"-260.8\" font-family=\"Helvetica,sans-Serif\" font-size=\"14.00\">samples = 458</text>\n<text text-anchor=\"middle\" x=\"648.5\" y=\"-245.8\" font-family=\"Helvetica,sans-Serif\" font-size=\"14.00\">value = [368, 90]</text>\n<text text-anchor=\"middle\" x=\"648.5\" y=\"-230.8\" font-family=\"Helvetica,sans-Serif\" font-size=\"14.00\">class = Died</text>\n</g>\n<!-- 0&#45;&gt;8 -->\n<g id=\"edge8\" class=\"edge\">\n<title>0&#45;&gt;8</title>\n<path fill=\"none\" stroke=\"black\" d=\"M561.64,-341.91C572.37,-332.47 583.88,-322.34 594.9,-312.65\"/>\n<polygon fill=\"black\" stroke=\"black\" points=\"597.24,-315.25 602.44,-306.02 592.62,-310 597.24,-315.25\"/>\n<text text-anchor=\"middle\" x=\"600.84\" y=\"-327.27\" font-family=\"Helvetica,sans-Serif\" font-size=\"14.00\">False</text>\n</g>\n<!-- 2 -->\n<g id=\"node3\" class=\"node\">\n<title>2</title>\n<path fill=\"#46a3e7\" stroke=\"black\" d=\"M217.5,-187C217.5,-187 125.5,-187 125.5,-187 119.5,-187 113.5,-181 113.5,-175 113.5,-175 113.5,-116 113.5,-116 113.5,-110 119.5,-104 125.5,-104 125.5,-104 217.5,-104 217.5,-104 223.5,-104 229.5,-110 229.5,-116 229.5,-116 229.5,-175 229.5,-175 229.5,-181 223.5,-187 217.5,-187\"/>\n<text text-anchor=\"middle\" x=\"171.5\" y=\"-171.8\" font-family=\"Helvetica,sans-Serif\" font-size=\"14.00\">Age &lt;= 2.5</text>\n<text text-anchor=\"middle\" x=\"171.5\" y=\"-156.8\" font-family=\"Helvetica,sans-Serif\" font-size=\"14.00\">gini = 0.112</text>\n<text text-anchor=\"middle\" x=\"171.5\" y=\"-141.8\" font-family=\"Helvetica,sans-Serif\" font-size=\"14.00\">samples = 134</text>\n<text text-anchor=\"middle\" x=\"171.5\" y=\"-126.8\" font-family=\"Helvetica,sans-Serif\" font-size=\"14.00\">value = [8, 126]</text>\n<text text-anchor=\"middle\" x=\"171.5\" y=\"-111.8\" font-family=\"Helvetica,sans-Serif\" font-size=\"14.00\">class = Survived</text>\n</g>\n<!-- 1&#45;&gt;2 -->\n<g id=\"edge2\" class=\"edge\">\n<title>1&#45;&gt;2</title>\n<path fill=\"none\" stroke=\"black\" d=\"M321.73,-230.6C295.91,-216.15 265.45,-199.1 238.74,-184.14\"/>\n<polygon fill=\"black\" stroke=\"black\" points=\"240.27,-180.99 229.83,-179.16 236.85,-187.09 240.27,-180.99\"/>\n</g>\n<!-- 5 -->\n<g id=\"node6\" class=\"node\">\n<title>5</title>\n<path fill=\"#e6f3fc\" stroke=\"black\" d=\"M426.5,-187C426.5,-187 334.5,-187 334.5,-187 328.5,-187 322.5,-181 322.5,-175 322.5,-175 322.5,-116 322.5,-116 322.5,-110 328.5,-104 334.5,-104 334.5,-104 426.5,-104 426.5,-104 432.5,-104 438.5,-110 438.5,-116 438.5,-116 438.5,-175 438.5,-175 438.5,-181 432.5,-187 426.5,-187\"/>\n<text text-anchor=\"middle\" x=\"380.5\" y=\"-171.8\" font-family=\"Helvetica,sans-Serif\" font-size=\"14.00\">Fare &lt;= 23.35</text>\n<text text-anchor=\"middle\" x=\"380.5\" y=\"-156.8\" font-family=\"Helvetica,sans-Serif\" font-size=\"14.00\">gini = 0.498</text>\n<text text-anchor=\"middle\" x=\"380.5\" y=\"-141.8\" font-family=\"Helvetica,sans-Serif\" font-size=\"14.00\">samples = 120</text>\n<text text-anchor=\"middle\" x=\"380.5\" y=\"-126.8\" font-family=\"Helvetica,sans-Serif\" font-size=\"14.00\">value = [56, 64]</text>\n<text text-anchor=\"middle\" x=\"380.5\" y=\"-111.8\" font-family=\"Helvetica,sans-Serif\" font-size=\"14.00\">class = Survived</text>\n</g>\n<!-- 1&#45;&gt;5 -->\n<g id=\"edge5\" class=\"edge\">\n<title>1&#45;&gt;5</title>\n<path fill=\"none\" stroke=\"black\" d=\"M380.5,-222.91C380.5,-214.65 380.5,-205.86 380.5,-197.3\"/>\n<polygon fill=\"black\" stroke=\"black\" points=\"384,-197.02 380.5,-187.02 377,-197.02 384,-197.02\"/>\n</g>\n<!-- 3 -->\n<g id=\"node4\" class=\"node\">\n<title>3</title>\n<path fill=\"#e58139\" stroke=\"black\" d=\"M83,-68C83,-68 12,-68 12,-68 6,-68 0,-62 0,-56 0,-56 0,-12 0,-12 0,-6 6,0 12,0 12,0 83,0 83,0 89,0 95,-6 95,-12 95,-12 95,-56 95,-56 95,-62 89,-68 83,-68\"/>\n<text text-anchor=\"middle\" x=\"47.5\" y=\"-52.8\" font-family=\"Helvetica,sans-Serif\" font-size=\"14.00\">gini = 0.0</text>\n<text text-anchor=\"middle\" x=\"47.5\" y=\"-37.8\" font-family=\"Helvetica,sans-Serif\" font-size=\"14.00\">samples = 1</text>\n<text text-anchor=\"middle\" x=\"47.5\" y=\"-22.8\" font-family=\"Helvetica,sans-Serif\" font-size=\"14.00\">value = [1, 0]</text>\n<text text-anchor=\"middle\" x=\"47.5\" y=\"-7.8\" font-family=\"Helvetica,sans-Serif\" font-size=\"14.00\">class = Died</text>\n</g>\n<!-- 2&#45;&gt;3 -->\n<g id=\"edge3\" class=\"edge\">\n<title>2&#45;&gt;3</title>\n<path fill=\"none\" stroke=\"black\" d=\"M125.33,-103.73C114.69,-94.33 103.38,-84.35 92.78,-74.99\"/>\n<polygon fill=\"black\" stroke=\"black\" points=\"95.02,-72.3 85.21,-68.3 90.39,-77.54 95.02,-72.3\"/>\n</g>\n<!-- 4 -->\n<g id=\"node5\" class=\"node\">\n<title>4</title>\n<path fill=\"#44a2e6\" stroke=\"black\" d=\"M217.5,-68C217.5,-68 125.5,-68 125.5,-68 119.5,-68 113.5,-62 113.5,-56 113.5,-56 113.5,-12 113.5,-12 113.5,-6 119.5,0 125.5,0 125.5,0 217.5,0 217.5,0 223.5,0 229.5,-6 229.5,-12 229.5,-12 229.5,-56 229.5,-56 229.5,-62 223.5,-68 217.5,-68\"/>\n<text text-anchor=\"middle\" x=\"171.5\" y=\"-52.8\" font-family=\"Helvetica,sans-Serif\" font-size=\"14.00\">gini = 0.1</text>\n<text text-anchor=\"middle\" x=\"171.5\" y=\"-37.8\" font-family=\"Helvetica,sans-Serif\" font-size=\"14.00\">samples = 133</text>\n<text text-anchor=\"middle\" x=\"171.5\" y=\"-22.8\" font-family=\"Helvetica,sans-Serif\" font-size=\"14.00\">value = [7, 126]</text>\n<text text-anchor=\"middle\" x=\"171.5\" y=\"-7.8\" font-family=\"Helvetica,sans-Serif\" font-size=\"14.00\">class = Survived</text>\n</g>\n<!-- 2&#45;&gt;4 -->\n<g id=\"edge4\" class=\"edge\">\n<title>2&#45;&gt;4</title>\n<path fill=\"none\" stroke=\"black\" d=\"M171.5,-103.73C171.5,-95.52 171.5,-86.86 171.5,-78.56\"/>\n<polygon fill=\"black\" stroke=\"black\" points=\"175,-78.3 171.5,-68.3 168,-78.3 175,-78.3\"/>\n</g>\n<!-- 6 -->\n<g id=\"node7\" class=\"node\">\n<title>6</title>\n<path fill=\"#a9d4f4\" stroke=\"black\" d=\"M367.5,-68C367.5,-68 259.5,-68 259.5,-68 253.5,-68 247.5,-62 247.5,-56 247.5,-56 247.5,-12 247.5,-12 247.5,-6 253.5,0 259.5,0 259.5,0 367.5,0 367.5,0 373.5,0 379.5,-6 379.5,-12 379.5,-12 379.5,-56 379.5,-56 379.5,-62 373.5,-68 367.5,-68\"/>\n<text text-anchor=\"middle\" x=\"313.5\" y=\"-52.8\" font-family=\"Helvetica,sans-Serif\" font-size=\"14.00\">gini = 0.461</text>\n<text text-anchor=\"middle\" x=\"313.5\" y=\"-37.8\" font-family=\"Helvetica,sans-Serif\" font-size=\"14.00\">samples = 97</text>\n<text text-anchor=\"middle\" x=\"313.5\" y=\"-22.8\" font-family=\"Helvetica,sans-Serif\" font-size=\"14.00\">value = [35.0, 62.0]</text>\n<text text-anchor=\"middle\" x=\"313.5\" y=\"-7.8\" font-family=\"Helvetica,sans-Serif\" font-size=\"14.00\">class = Survived</text>\n</g>\n<!-- 5&#45;&gt;6 -->\n<g id=\"edge6\" class=\"edge\">\n<title>5&#45;&gt;6</title>\n<path fill=\"none\" stroke=\"black\" d=\"M355.55,-103.73C350.19,-94.97 344.52,-85.7 339.14,-76.91\"/>\n<polygon fill=\"black\" stroke=\"black\" points=\"342.08,-75 333.88,-68.3 336.11,-78.66 342.08,-75\"/>\n</g>\n<!-- 7 -->\n<g id=\"node8\" class=\"node\">\n<title>7</title>\n<path fill=\"#e78d4c\" stroke=\"black\" d=\"M487.5,-68C487.5,-68 409.5,-68 409.5,-68 403.5,-68 397.5,-62 397.5,-56 397.5,-56 397.5,-12 397.5,-12 397.5,-6 403.5,0 409.5,0 409.5,0 487.5,0 487.5,0 493.5,0 499.5,-6 499.5,-12 499.5,-12 499.5,-56 499.5,-56 499.5,-62 493.5,-68 487.5,-68\"/>\n<text text-anchor=\"middle\" x=\"448.5\" y=\"-52.8\" font-family=\"Helvetica,sans-Serif\" font-size=\"14.00\">gini = 0.159</text>\n<text text-anchor=\"middle\" x=\"448.5\" y=\"-37.8\" font-family=\"Helvetica,sans-Serif\" font-size=\"14.00\">samples = 23</text>\n<text text-anchor=\"middle\" x=\"448.5\" y=\"-22.8\" font-family=\"Helvetica,sans-Serif\" font-size=\"14.00\">value = [21, 2]</text>\n<text text-anchor=\"middle\" x=\"448.5\" y=\"-7.8\" font-family=\"Helvetica,sans-Serif\" font-size=\"14.00\">class = Died</text>\n</g>\n<!-- 5&#45;&gt;7 -->\n<g id=\"edge7\" class=\"edge\">\n<title>5&#45;&gt;7</title>\n<path fill=\"none\" stroke=\"black\" d=\"M405.82,-103.73C411.26,-94.97 417.01,-85.7 422.48,-76.91\"/>\n<polygon fill=\"black\" stroke=\"black\" points=\"425.52,-78.64 427.82,-68.3 419.57,-74.95 425.52,-78.64\"/>\n</g>\n<!-- 9 -->\n<g id=\"node10\" class=\"node\">\n<title>9</title>\n<path fill=\"#f5cdb0\" stroke=\"black\" d=\"M691.5,-187C691.5,-187 605.5,-187 605.5,-187 599.5,-187 593.5,-181 593.5,-175 593.5,-175 593.5,-116 593.5,-116 593.5,-110 599.5,-104 605.5,-104 605.5,-104 691.5,-104 691.5,-104 697.5,-104 703.5,-110 703.5,-116 703.5,-116 703.5,-175 703.5,-175 703.5,-181 697.5,-187 691.5,-187\"/>\n<text text-anchor=\"middle\" x=\"648.5\" y=\"-171.8\" font-family=\"Helvetica,sans-Serif\" font-size=\"14.00\">Age &lt;= 60.5</text>\n<text text-anchor=\"middle\" x=\"648.5\" y=\"-156.8\" font-family=\"Helvetica,sans-Serif\" font-size=\"14.00\">gini = 0.469</text>\n<text text-anchor=\"middle\" x=\"648.5\" y=\"-141.8\" font-family=\"Helvetica,sans-Serif\" font-size=\"14.00\">samples = 101</text>\n<text text-anchor=\"middle\" x=\"648.5\" y=\"-126.8\" font-family=\"Helvetica,sans-Serif\" font-size=\"14.00\">value = [63, 38]</text>\n<text text-anchor=\"middle\" x=\"648.5\" y=\"-111.8\" font-family=\"Helvetica,sans-Serif\" font-size=\"14.00\">class = Died</text>\n</g>\n<!-- 8&#45;&gt;9 -->\n<g id=\"edge9\" class=\"edge\">\n<title>8&#45;&gt;9</title>\n<path fill=\"none\" stroke=\"black\" d=\"M648.5,-222.91C648.5,-214.65 648.5,-205.86 648.5,-197.3\"/>\n<polygon fill=\"black\" stroke=\"black\" points=\"652,-197.02 648.5,-187.02 645,-197.02 652,-197.02\"/>\n</g>\n<!-- 12 -->\n<g id=\"node13\" class=\"node\">\n<title>12</title>\n<path fill=\"#e9965b\" stroke=\"black\" d=\"M892,-187C892,-187 799,-187 799,-187 793,-187 787,-181 787,-175 787,-175 787,-116 787,-116 787,-110 793,-104 799,-104 799,-104 892,-104 892,-104 898,-104 904,-110 904,-116 904,-116 904,-175 904,-175 904,-181 898,-187 892,-187\"/>\n<text text-anchor=\"middle\" x=\"845.5\" y=\"-171.8\" font-family=\"Helvetica,sans-Serif\" font-size=\"14.00\">Age &lt;= 3.5</text>\n<text text-anchor=\"middle\" x=\"845.5\" y=\"-156.8\" font-family=\"Helvetica,sans-Serif\" font-size=\"14.00\">gini = 0.249</text>\n<text text-anchor=\"middle\" x=\"845.5\" y=\"-141.8\" font-family=\"Helvetica,sans-Serif\" font-size=\"14.00\">samples = 357</text>\n<text text-anchor=\"middle\" x=\"845.5\" y=\"-126.8\" font-family=\"Helvetica,sans-Serif\" font-size=\"14.00\">value = [305, 52]</text>\n<text text-anchor=\"middle\" x=\"845.5\" y=\"-111.8\" font-family=\"Helvetica,sans-Serif\" font-size=\"14.00\">class = Died</text>\n</g>\n<!-- 8&#45;&gt;12 -->\n<g id=\"edge12\" class=\"edge\">\n<title>8&#45;&gt;12</title>\n<path fill=\"none\" stroke=\"black\" d=\"M707.07,-228.71C729.4,-215.45 755.02,-200.24 778.1,-186.53\"/>\n<polygon fill=\"black\" stroke=\"black\" points=\"780,-189.47 786.81,-181.36 776.43,-183.45 780,-189.47\"/>\n</g>\n<!-- 10 -->\n<g id=\"node11\" class=\"node\">\n<title>10</title>\n<path fill=\"#f8dbc7\" stroke=\"black\" d=\"M637.5,-68C637.5,-68 529.5,-68 529.5,-68 523.5,-68 517.5,-62 517.5,-56 517.5,-56 517.5,-12 517.5,-12 517.5,-6 523.5,0 529.5,0 529.5,0 637.5,0 637.5,0 643.5,0 649.5,-6 649.5,-12 649.5,-12 649.5,-56 649.5,-56 649.5,-62 643.5,-68 637.5,-68\"/>\n<text text-anchor=\"middle\" x=\"583.5\" y=\"-52.8\" font-family=\"Helvetica,sans-Serif\" font-size=\"14.00\">gini = 0.486</text>\n<text text-anchor=\"middle\" x=\"583.5\" y=\"-37.8\" font-family=\"Helvetica,sans-Serif\" font-size=\"14.00\">samples = 91</text>\n<text text-anchor=\"middle\" x=\"583.5\" y=\"-22.8\" font-family=\"Helvetica,sans-Serif\" font-size=\"14.00\">value = [53.0, 38.0]</text>\n<text text-anchor=\"middle\" x=\"583.5\" y=\"-7.8\" font-family=\"Helvetica,sans-Serif\" font-size=\"14.00\">class = Died</text>\n</g>\n<!-- 9&#45;&gt;10 -->\n<g id=\"edge10\" class=\"edge\">\n<title>9&#45;&gt;10</title>\n<path fill=\"none\" stroke=\"black\" d=\"M624.3,-103.73C619.1,-94.97 613.6,-85.7 608.38,-76.91\"/>\n<polygon fill=\"black\" stroke=\"black\" points=\"611.38,-75.11 603.27,-68.3 605.36,-78.69 611.38,-75.11\"/>\n</g>\n<!-- 11 -->\n<g id=\"node12\" class=\"node\">\n<title>11</title>\n<path fill=\"#e58139\" stroke=\"black\" d=\"M757.5,-68C757.5,-68 679.5,-68 679.5,-68 673.5,-68 667.5,-62 667.5,-56 667.5,-56 667.5,-12 667.5,-12 667.5,-6 673.5,0 679.5,0 679.5,0 757.5,0 757.5,0 763.5,0 769.5,-6 769.5,-12 769.5,-12 769.5,-56 769.5,-56 769.5,-62 763.5,-68 757.5,-68\"/>\n<text text-anchor=\"middle\" x=\"718.5\" y=\"-52.8\" font-family=\"Helvetica,sans-Serif\" font-size=\"14.00\">gini = 0.0</text>\n<text text-anchor=\"middle\" x=\"718.5\" y=\"-37.8\" font-family=\"Helvetica,sans-Serif\" font-size=\"14.00\">samples = 10</text>\n<text text-anchor=\"middle\" x=\"718.5\" y=\"-22.8\" font-family=\"Helvetica,sans-Serif\" font-size=\"14.00\">value = [10, 0]</text>\n<text text-anchor=\"middle\" x=\"718.5\" y=\"-7.8\" font-family=\"Helvetica,sans-Serif\" font-size=\"14.00\">class = Died</text>\n</g>\n<!-- 9&#45;&gt;11 -->\n<g id=\"edge11\" class=\"edge\">\n<title>9&#45;&gt;11</title>\n<path fill=\"none\" stroke=\"black\" d=\"M674.57,-103.73C680.16,-94.97 686.09,-85.7 691.71,-76.91\"/>\n<polygon fill=\"black\" stroke=\"black\" points=\"694.78,-78.61 697.21,-68.3 688.88,-74.84 694.78,-78.61\"/>\n</g>\n<!-- 13 -->\n<g id=\"node14\" class=\"node\">\n<title>13</title>\n<path fill=\"#91c9f1\" stroke=\"black\" d=\"M891.5,-68C891.5,-68 799.5,-68 799.5,-68 793.5,-68 787.5,-62 787.5,-56 787.5,-56 787.5,-12 787.5,-12 787.5,-6 793.5,0 799.5,0 799.5,0 891.5,0 891.5,0 897.5,0 903.5,-6 903.5,-12 903.5,-12 903.5,-56 903.5,-56 903.5,-62 897.5,-68 891.5,-68\"/>\n<text text-anchor=\"middle\" x=\"845.5\" y=\"-52.8\" font-family=\"Helvetica,sans-Serif\" font-size=\"14.00\">gini = 0.426</text>\n<text text-anchor=\"middle\" x=\"845.5\" y=\"-37.8\" font-family=\"Helvetica,sans-Serif\" font-size=\"14.00\">samples = 13</text>\n<text text-anchor=\"middle\" x=\"845.5\" y=\"-22.8\" font-family=\"Helvetica,sans-Serif\" font-size=\"14.00\">value = [4, 9]</text>\n<text text-anchor=\"middle\" x=\"845.5\" y=\"-7.8\" font-family=\"Helvetica,sans-Serif\" font-size=\"14.00\">class = Survived</text>\n</g>\n<!-- 12&#45;&gt;13 -->\n<g id=\"edge13\" class=\"edge\">\n<title>12&#45;&gt;13</title>\n<path fill=\"none\" stroke=\"black\" d=\"M845.5,-103.73C845.5,-95.52 845.5,-86.86 845.5,-78.56\"/>\n<polygon fill=\"black\" stroke=\"black\" points=\"849,-78.3 845.5,-68.3 842,-78.3 849,-78.3\"/>\n</g>\n<!-- 14 -->\n<g id=\"node15\" class=\"node\">\n<title>14</title>\n<path fill=\"#e99355\" stroke=\"black\" d=\"M1027,-68C1027,-68 934,-68 934,-68 928,-68 922,-62 922,-56 922,-56 922,-12 922,-12 922,-6 928,0 934,0 934,0 1027,0 1027,0 1033,0 1039,-6 1039,-12 1039,-12 1039,-56 1039,-56 1039,-62 1033,-68 1027,-68\"/>\n<text text-anchor=\"middle\" x=\"980.5\" y=\"-52.8\" font-family=\"Helvetica,sans-Serif\" font-size=\"14.00\">gini = 0.219</text>\n<text text-anchor=\"middle\" x=\"980.5\" y=\"-37.8\" font-family=\"Helvetica,sans-Serif\" font-size=\"14.00\">samples = 344</text>\n<text text-anchor=\"middle\" x=\"980.5\" y=\"-22.8\" font-family=\"Helvetica,sans-Serif\" font-size=\"14.00\">value = [301, 43]</text>\n<text text-anchor=\"middle\" x=\"980.5\" y=\"-7.8\" font-family=\"Helvetica,sans-Serif\" font-size=\"14.00\">class = Died</text>\n</g>\n<!-- 12&#45;&gt;14 -->\n<g id=\"edge14\" class=\"edge\">\n<title>12&#45;&gt;14</title>\n<path fill=\"none\" stroke=\"black\" d=\"M895.77,-103.73C907.46,-94.24 919.9,-84.16 931.54,-74.72\"/>\n<polygon fill=\"black\" stroke=\"black\" points=\"933.88,-77.32 939.45,-68.3 929.47,-71.88 933.88,-77.32\"/>\n</g>\n</g>\n</svg>\n",
            "text/plain": [
              "<graphviz.sources.Source at 0x7d8828e80ad0>"
            ]
          },
          "metadata": {},
          "execution_count": 28
        }
      ]
    },
    {
      "cell_type": "markdown",
      "source": [
        "**Nhiệm vụ 2: Tìm tham số tối ưu cho cây quyết định**"
      ],
      "metadata": {
        "id": "02ZoXn1AQzsW"
      }
    },
    {
      "cell_type": "markdown",
      "source": [
        "1. GridSearchCV để chọn tham số"
      ],
      "metadata": {
        "id": "YoSzA0lIQ8NB"
      }
    },
    {
      "cell_type": "code",
      "source": [
        "from sklearn.model_selection import GridSearchCV\n",
        "\n",
        "params = {'max_depth':[2,3,4,5,6,8,10]}\n",
        "grid_dt = GridSearchCV(tree.DecisionTreeClassifier(random_state=42),\n",
        "                       param_grid=params,\n",
        "                       scoring='accuracy',\n",
        "                       cv=4,\n",
        "                       return_train_score=True,\n",
        "                       verbose=1)\n",
        "grid_dt.fit(X_train, y_train)\n",
        "\n",
        "print(\"Best params:\", grid_dt.best_params_)\n",
        "print(\"Best CV score:\", grid_dt.best_score_)"
      ],
      "metadata": {
        "colab": {
          "base_uri": "https://localhost:8080/"
        },
        "id": "f1Az8l3BRAX_",
        "outputId": "c423f0b6-ec08-4561-92f8-8027a65361df"
      },
      "execution_count": null,
      "outputs": [
        {
          "output_type": "stream",
          "name": "stdout",
          "text": [
            "Fitting 4 folds for each of 7 candidates, totalling 28 fits\n",
            "Best params: {'max_depth': 6}\n",
            "Best CV score: 0.8282834403910637\n"
          ]
        }
      ]
    },
    {
      "cell_type": "markdown",
      "source": [
        "2. Vẽ biểu đồ theo max_depth"
      ],
      "metadata": {
        "id": "LD5J7DHBRfO6"
      }
    },
    {
      "cell_type": "code",
      "source": [
        "cv_results_df = pd.DataFrame(grid_dt.cv_results_)\n",
        "\n",
        "plt.figure(figsize=(8,5))\n",
        "plt.errorbar(cv_results_df['param_max_depth'],\n",
        "             cv_results_df['mean_train_score'],\n",
        "             yerr=cv_results_df['std_train_score']/np.sqrt(4),\n",
        "             label='Train score')\n",
        "plt.errorbar(cv_results_df['param_max_depth'],\n",
        "             cv_results_df['mean_test_score'],\n",
        "             yerr=cv_results_df['std_test_score']/np.sqrt(4),\n",
        "             label='Validation score')\n",
        "plt.xlabel('max_depth')\n",
        "plt.ylabel('Accuracy')\n",
        "plt.title('Decision Tree depth tuning')\n",
        "plt.legend()\n",
        "plt.show()"
      ],
      "metadata": {
        "colab": {
          "base_uri": "https://localhost:8080/",
          "height": 719
        },
        "id": "Usll3ZjyRfvz",
        "outputId": "69de0b62-4fe2-494e-b63b-9d6e0dd5989d"
      },
      "execution_count": null,
      "outputs": [
        {
          "output_type": "display_data",
          "data": {
            "text/plain": [
              "<Figure size 1200x750 with 1 Axes>"
            ],
            "image/png": "[encoded data removed]"
          },
          "metadata": {}
        }
      ]
    },
    {
      "cell_type": "markdown",
      "source": [
        "**Nhiệm vụ 3: Xây dựng rừng cây (Random Forest)**"
      ],
      "metadata": {
        "id": "TQ3fuFKXScMs"
      }
    },
    {
      "cell_type": "markdown",
      "source": [
        "1. Tạo mô hình Random Forest"
      ],
      "metadata": {
        "id": "ZfhQwMrzSh-v"
      }
    },
    {
      "cell_type": "code",
      "source": [
        "from sklearn.ensemble import RandomForestClassifier\n",
        "\n",
        "rf = RandomForestClassifier(random_state=42)\n",
        "rf_params = {'n_estimators':list(range(10,110,10))}\n",
        "\n",
        "cv_rf = GridSearchCV(rf,\n",
        "                     param_grid=rf_params,\n",
        "                     scoring='accuracy',\n",
        "                     cv=4,\n",
        "                     return_train_score=True,\n",
        "                     verbose=1)\n",
        "cv_rf.fit(X_train, y_train)\n",
        "\n",
        "print(\"Best params:\", cv_rf.best_params_)\n",
        "print(\"Best CV score:\", cv_rf.best_score_)\n"
      ],
      "metadata": {
        "colab": {
          "base_uri": "https://localhost:8080/"
        },
        "id": "r3fUd1-BSfZ9",
        "outputId": "d630a63c-6856-43b2-8d38-73b87227ce1b"
      },
      "execution_count": null,
      "outputs": [
        {
          "output_type": "stream",
          "name": "stdout",
          "text": [
            "Fitting 4 folds for each of 10 candidates, totalling 40 fits\n",
            "Best params: {'n_estimators': 60}\n",
            "Best CV score: 0.802478487456066\n"
          ]
        }
      ]
    },
    {
      "cell_type": "markdown",
      "source": [
        "2. Vẽ biểu đồ số cây trong rừng"
      ],
      "metadata": {
        "id": "U6s5K84hV5am"
      }
    },
    {
      "cell_type": "code",
      "source": [
        "cv_rf_results = pd.DataFrame(cv_rf.cv_results_)\n",
        "\n",
        "fig, ax = plt.subplots(1,2, figsize=(12,5))\n",
        "\n",
        "ax[0].plot(cv_rf_results['param_n_estimators'], cv_rf_results['mean_fit_time'], '-o')\n",
        "ax[0].set_xlabel('Number of trees')\n",
        "ax[0].set_ylabel('Mean fit time (s)')\n",
        "\n",
        "ax[1].errorbar(cv_rf_results['param_n_estimators'],\n",
        "               cv_rf_results['mean_test_score'],\n",
        "               yerr=cv_rf_results['std_test_score']/np.sqrt(4))\n",
        "ax[1].set_xlabel('Number of trees')\n",
        "ax[1].set_ylabel('Accuracy (Validation)')\n",
        "\n",
        "plt.tight_layout()\n",
        "plt.show()"
      ],
      "metadata": {
        "colab": {
          "base_uri": "https://localhost:8080/",
          "height": 701
        },
        "id": "NIBE6G8bV7ZG",
        "outputId": "0bc5805d-baab-4790-9838-763cbd43eb70"
      },
      "execution_count": null,
      "outputs": [
        {
          "output_type": "display_data",
          "data": {
            "text/plain": [
              "<Figure size 1800x750 with 2 Axes>"
            ],
            "image/png": "[encoded data removed]"
          },
          "metadata": {}
        }
      ]
    },
    {
      "cell_type": "markdown",
      "source": [
        "3. Feature importance"
      ],
      "metadata": {
        "id": "EODN4TkyV98g"
      }
    },
    {
      "cell_type": "code",
      "source": [
        "feat_imp_df = pd.DataFrame({\n",
        "    'Importance': cv_rf.best_estimator_.feature_importances_\n",
        "}, index=X_train.columns)\n",
        "\n",
        "feat_imp_df.sort_values('Importance', ascending=True).plot.barh(figsize=(8,6))\n",
        "plt.title(\"Feature Importances (Random Forest)\")\n",
        "plt.show()"
      ],
      "metadata": {
        "colab": {
          "base_uri": "https://localhost:8080/",
          "height": 806
        },
        "id": "ZE3A2JxoWXjZ",
        "outputId": "fb1d27a4-0da1-4252-c123-310950da36e5"
      },
      "execution_count": null,
      "outputs": [
        {
          "output_type": "display_data",
          "data": {
            "text/plain": [
              "<Figure size 1200x900 with 1 Axes>"
            ],
            "image/png": "[encoded data removed]"
          },
          "metadata": {}
        }
      ]
    },
    {
      "cell_type": "markdown",
      "source": [
        "**2.1.4. Bài tập thực hành 2**\n",
        "\n",
        "Xây dựng cây quyết định và rừng cây trên dữ liệu bệnh tiểu đường. Dữ liệu lấy từ\n",
        "https://www.kaggle.com/code/tumpanjawat/diabetes-eda-random-forest-hp\n",
        "\n",
        "\n",
        "\n"
      ],
      "metadata": {
        "id": "puPHBpFXC2ui"
      }
    },
    {
      "cell_type": "markdown",
      "source": [
        "**Nhiệm vụ 1: Xây dựng cây quyết định bằng thư viện Scikit-Learn**\n",
        "1. Import thư viện\n",
        "\n"
      ],
      "metadata": {
        "id": "NK3pnsWoDFIL"
      }
    },
    {
      "cell_type": "code",
      "source": [
        "import numpy as np\n",
        "import pandas as pd\n",
        "import matplotlib.pyplot as plt\n",
        "import seaborn as sns\n",
        "\n",
        "%matplotlib inline\n",
        "import matplotlib as mpl\n",
        "mpl.rcParams['figure.dpi'] = 150\n",
        "import graphviz\n",
        "\n",
        "from sklearn.model_selection import train_test_split, GridSearchCV\n",
        "from sklearn import tree\n",
        "from sklearn.metrics import accuracy_score, classification_report\n",
        "from sklearn.ensemble import RandomForestClassifier"
      ],
      "metadata": {
        "id": "JKBkcaucuxjH"
      },
      "execution_count": null,
      "outputs": []
    },
    {
      "cell_type": "markdown",
      "source": [
        "2. Nạp dữ liệu và phân tích sơ bộ"
      ],
      "metadata": {
        "id": "qjOi8zMMu0wm"
      }
    },
    {
      "cell_type": "code",
      "source": [
        "# Đọc dữ liệu\n",
        "df = pd.read_csv(\"diabetes_prediction_dataset.csv\")\n",
        "\n",
        "print(\"Kích thước dữ liệu:\", df.shape)\n",
        "print(df.head())\n",
        "print(df.info())\n",
        "print(df['diabetes'].value_counts())"
      ],
      "metadata": {
        "colab": {
          "base_uri": "https://localhost:8080/"
        },
        "id": "z0YHl8rmu5qS",
        "outputId": "347df1b6-9ebb-4364-e885-b37d0ecc6ab3"
      },
      "execution_count": null,
      "outputs": [
        {
          "output_type": "stream",
          "name": "stdout",
          "text": [
            "Kích thước dữ liệu: (100000, 9)\n",
            "   gender   age  hypertension  heart_disease smoking_history    bmi  \\\n",
            "0  Female  80.0             0              1           never  25.19   \n",
            "1  Female  54.0             0              0         No Info  27.32   \n",
            "2    Male  28.0             0              0           never  27.32   \n",
            "3  Female  36.0             0              0         current  23.45   \n",
            "4    Male  76.0             1              1         current  20.14   \n",
            "\n",
            "   HbA1c_level  blood_glucose_level  diabetes  \n",
            "0          6.6                  140         0  \n",
            "1          6.6                   80         0  \n",
            "2          5.7                  158         0  \n",
            "3          5.0                  155         0  \n",
            "4          4.8                  155         0  \n",
            "<class 'pandas.core.frame.DataFrame'>\n",
            "RangeIndex: 100000 entries, 0 to 99999\n",
            "Data columns (total 9 columns):\n",
            " #   Column               Non-Null Count   Dtype  \n",
            "---  ------               --------------   -----  \n",
            " 0   gender               100000 non-null  object \n",
            " 1   age                  100000 non-null  float64\n",
            " 2   hypertension         100000 non-null  int64  \n",
            " 3   heart_disease        100000 non-null  int64  \n",
            " 4   smoking_history      100000 non-null  object \n",
            " 5   bmi                  100000 non-null  float64\n",
            " 6   HbA1c_level          100000 non-null  float64\n",
            " 7   blood_glucose_level  100000 non-null  int64  \n",
            " 8   diabetes             100000 non-null  int64  \n",
            "dtypes: float64(3), int64(4), object(2)\n",
            "memory usage: 6.9+ MB\n",
            "None\n",
            "diabetes\n",
            "0    91500\n",
            "1     8500\n",
            "Name: count, dtype: int64\n"
          ]
        }
      ]
    },
    {
      "cell_type": "markdown",
      "source": [
        "3. Chuẩn bị dữ liệu cho tập train/test"
      ],
      "metadata": {
        "id": "-NKtCwWqvSgs"
      }
    },
    {
      "cell_type": "code",
      "source": [
        "# Xác định biến đầu vào và nhãn\n",
        "X = df.drop(\"diabetes\", axis=1)\n",
        "y = df[\"diabetes\"]\n",
        "\n",
        "# One-hot encode categorical features\n",
        "X = pd.get_dummies(X, columns=['gender', 'smoking_history'], drop_first=True)\n",
        "\n",
        "# Chia train/test\n",
        "X_train, X_test, y_train, y_test = train_test_split(\n",
        "    X, y, test_size=0.2, random_state=42, stratify=y)"
      ],
      "metadata": {
        "id": "X214ok8OvUzO"
      },
      "execution_count": null,
      "outputs": []
    },
    {
      "cell_type": "markdown",
      "source": [
        "4. Xây dựng cây quyết định"
      ],
      "metadata": {
        "id": "zgc8m3TOvXaw"
      }
    },
    {
      "cell_type": "code",
      "source": [
        "dt = tree.DecisionTreeClassifier(max_depth=3, random_state=42)\n",
        "dt.fit(X_train, y_train)\n",
        "\n",
        "print(\"Train acc:\", accuracy_score(y_train, dt.predict(X_train)))\n",
        "print(\"Test acc:\", accuracy_score(y_test, dt.predict(X_test)))\n"
      ],
      "metadata": {
        "colab": {
          "base_uri": "https://localhost:8080/"
        },
        "id": "7C-mCnP784Dp",
        "outputId": "b05b95c9-02e6-40cb-acfe-badb67364a1a"
      },
      "execution_count": null,
      "outputs": [
        {
          "output_type": "stream",
          "name": "stdout",
          "text": [
            "Train acc: 0.9717625\n",
            "Test acc: 0.9723\n"
          ]
        }
      ]
    },
    {
      "cell_type": "markdown",
      "source": [
        "5. Hiển thị cây quyết định"
      ],
      "metadata": {
        "id": "fSL4XRvgvbrx"
      }
    },
    {
      "cell_type": "code",
      "source": [
        "dot_data = tree.export_graphviz(dt,\n",
        "    out_file=None,\n",
        "    filled=True,\n",
        "    rounded=True,\n",
        "    feature_names=X.columns,\n",
        "    class_names=['No Diabetes','Diabetes'])\n",
        "graph = graphviz.Source(dot_data)\n",
        "graph"
      ],
      "metadata": {
        "colab": {
          "base_uri": "https://localhost:8080/",
          "height": 598
        },
        "id": "KLqqY2lHvdv0",
        "outputId": "ad43d5dd-8d9d-438e-ec59-65a9a4070dba"
      },
      "execution_count": null,
      "outputs": [
        {
          "output_type": "execute_result",
          "data": {
            "image/svg+xml": "<?xml version=\"1.0\" encoding=\"UTF-8\" standalone=\"no\"?>\n<!DOCTYPE svg PUBLIC \"-//W3C//DTD SVG 1.1//EN\"\n \"http://www.w3.org/Graphics/SVG/1.1/DTD/svg11.dtd\">\n<!-- Generated by graphviz version 2.43.0 (0)\n -->\n<!-- Title: Tree Pages: 1 -->\n<svg width=\"473pt\" height=\"433pt\"\n viewBox=\"0.00 0.00 472.50 433.00\" xmlns=\"http://www.w3.org/2000/svg\" xmlns:xlink=\"http://www.w3.org/1999/xlink\">\n<g id=\"graph0\" class=\"graph\" transform=\"scale(1 1) rotate(0) translate(4 429)\">\n<title>Tree</title>\n<polygon fill=\"white\" stroke=\"transparent\" points=\"-4,4 -4,-429 468.5,-429 468.5,4 -4,4\"/>\n<!-- 0 -->\n<g id=\"node1\" class=\"node\">\n<title>0</title>\n<path fill=\"#e78d4b\" stroke=\"black\" d=\"M391,-425C391,-425 245,-425 245,-425 239,-425 233,-419 233,-413 233,-413 233,-354 233,-354 233,-348 239,-342 245,-342 245,-342 391,-342 391,-342 397,-342 403,-348 403,-354 403,-354 403,-413 403,-413 403,-419 397,-425 391,-425\"/>\n<text text-anchor=\"middle\" x=\"318\" y=\"-409.8\" font-family=\"Helvetica,sans-Serif\" font-size=\"14.00\">HbA1c_level &lt;= 6.7</text>\n<text text-anchor=\"middle\" x=\"318\" y=\"-394.8\" font-family=\"Helvetica,sans-Serif\" font-size=\"14.00\">gini = 0.156</text>\n<text text-anchor=\"middle\" x=\"318\" y=\"-379.8\" font-family=\"Helvetica,sans-Serif\" font-size=\"14.00\">samples = 80000</text>\n<text text-anchor=\"middle\" x=\"318\" y=\"-364.8\" font-family=\"Helvetica,sans-Serif\" font-size=\"14.00\">value = [73200.0, 6800.0]</text>\n<text text-anchor=\"middle\" x=\"318\" y=\"-349.8\" font-family=\"Helvetica,sans-Serif\" font-size=\"14.00\">class = No Diabetes</text>\n</g>\n<!-- 1 -->\n<g id=\"node2\" class=\"node\">\n<title>1</title>\n<path fill=\"#e68743\" stroke=\"black\" d=\"M317.5,-306C317.5,-306 144.5,-306 144.5,-306 138.5,-306 132.5,-300 132.5,-294 132.5,-294 132.5,-235 132.5,-235 132.5,-229 138.5,-223 144.5,-223 144.5,-223 317.5,-223 317.5,-223 323.5,-223 329.5,-229 329.5,-235 329.5,-235 329.5,-294 329.5,-294 329.5,-300 323.5,-306 317.5,-306\"/>\n<text text-anchor=\"middle\" x=\"231\" y=\"-290.8\" font-family=\"Helvetica,sans-Serif\" font-size=\"14.00\">blood_glucose_level &lt;= 210.0</text>\n<text text-anchor=\"middle\" x=\"231\" y=\"-275.8\" font-family=\"Helvetica,sans-Serif\" font-size=\"14.00\">gini = 0.091</text>\n<text text-anchor=\"middle\" x=\"231\" y=\"-260.8\" font-family=\"Helvetica,sans-Serif\" font-size=\"14.00\">samples = 76895</text>\n<text text-anchor=\"middle\" x=\"231\" y=\"-245.8\" font-family=\"Helvetica,sans-Serif\" font-size=\"14.00\">value = [73200, 3695]</text>\n<text text-anchor=\"middle\" x=\"231\" y=\"-230.8\" font-family=\"Helvetica,sans-Serif\" font-size=\"14.00\">class = No Diabetes</text>\n</g>\n<!-- 0&#45;&gt;1 -->\n<g id=\"edge1\" class=\"edge\">\n<title>0&#45;&gt;1</title>\n<path fill=\"none\" stroke=\"black\" d=\"M287.82,-341.91C281.14,-332.92 273.99,-323.32 267.1,-314.05\"/>\n<polygon fill=\"black\" stroke=\"black\" points=\"269.91,-311.96 261.13,-306.02 264.29,-316.13 269.91,-311.96\"/>\n<text text-anchor=\"middle\" x=\"257.49\" y=\"-327.05\" font-family=\"Helvetica,sans-Serif\" font-size=\"14.00\">True</text>\n</g>\n<!-- 6 -->\n<g id=\"node7\" class=\"node\">\n<title>6</title>\n<path fill=\"#399de5\" stroke=\"black\" d=\"M452.5,-298.5C452.5,-298.5 359.5,-298.5 359.5,-298.5 353.5,-298.5 347.5,-292.5 347.5,-286.5 347.5,-286.5 347.5,-242.5 347.5,-242.5 347.5,-236.5 353.5,-230.5 359.5,-230.5 359.5,-230.5 452.5,-230.5 452.5,-230.5 458.5,-230.5 464.5,-236.5 464.5,-242.5 464.5,-242.5 464.5,-286.5 464.5,-286.5 464.5,-292.5 458.5,-298.5 452.5,-298.5\"/>\n<text text-anchor=\"middle\" x=\"406\" y=\"-283.3\" font-family=\"Helvetica,sans-Serif\" font-size=\"14.00\">gini = 0.0</text>\n<text text-anchor=\"middle\" x=\"406\" y=\"-268.3\" font-family=\"Helvetica,sans-Serif\" font-size=\"14.00\">samples = 3105</text>\n<text text-anchor=\"middle\" x=\"406\" y=\"-253.3\" font-family=\"Helvetica,sans-Serif\" font-size=\"14.00\">value = [0, 3105]</text>\n<text text-anchor=\"middle\" x=\"406\" y=\"-238.3\" font-family=\"Helvetica,sans-Serif\" font-size=\"14.00\">class = Diabetes</text>\n</g>\n<!-- 0&#45;&gt;6 -->\n<g id=\"edge6\" class=\"edge\">\n<title>0&#45;&gt;6</title>\n<path fill=\"none\" stroke=\"black\" d=\"M348.53,-341.91C357.08,-330.54 366.38,-318.18 374.96,-306.77\"/>\n<polygon fill=\"black\" stroke=\"black\" points=\"377.84,-308.76 381.05,-298.67 372.25,-304.55 377.84,-308.76\"/>\n<text text-anchor=\"middle\" x=\"384.56\" y=\"-319.72\" font-family=\"Helvetica,sans-Serif\" font-size=\"14.00\">False</text>\n</g>\n<!-- 2 -->\n<g id=\"node3\" class=\"node\">\n<title>2</title>\n<path fill=\"#e6853f\" stroke=\"black\" d=\"M217.5,-187C217.5,-187 94.5,-187 94.5,-187 88.5,-187 82.5,-181 82.5,-175 82.5,-175 82.5,-116 82.5,-116 82.5,-110 88.5,-104 94.5,-104 94.5,-104 217.5,-104 217.5,-104 223.5,-104 229.5,-110 229.5,-116 229.5,-116 229.5,-175 229.5,-175 229.5,-181 223.5,-187 217.5,-187\"/>\n<text text-anchor=\"middle\" x=\"156\" y=\"-171.8\" font-family=\"Helvetica,sans-Serif\" font-size=\"14.00\">age &lt;= 53.5</text>\n<text text-anchor=\"middle\" x=\"156\" y=\"-156.8\" font-family=\"Helvetica,sans-Serif\" font-size=\"14.00\">gini = 0.058</text>\n<text text-anchor=\"middle\" x=\"156\" y=\"-141.8\" font-family=\"Helvetica,sans-Serif\" font-size=\"14.00\">samples = 75459</text>\n<text text-anchor=\"middle\" x=\"156\" y=\"-126.8\" font-family=\"Helvetica,sans-Serif\" font-size=\"14.00\">value = [73200, 2259]</text>\n<text text-anchor=\"middle\" x=\"156\" y=\"-111.8\" font-family=\"Helvetica,sans-Serif\" font-size=\"14.00\">class = No Diabetes</text>\n</g>\n<!-- 1&#45;&gt;2 -->\n<g id=\"edge2\" class=\"edge\">\n<title>1&#45;&gt;2</title>\n<path fill=\"none\" stroke=\"black\" d=\"M204.98,-222.91C199.34,-214.1 193.31,-204.7 187.48,-195.61\"/>\n<polygon fill=\"black\" stroke=\"black\" points=\"190.32,-193.55 181.97,-187.02 184.43,-197.33 190.32,-193.55\"/>\n</g>\n<!-- 5 -->\n<g id=\"node6\" class=\"node\">\n<title>5</title>\n<path fill=\"#399de5\" stroke=\"black\" d=\"M352.5,-179.5C352.5,-179.5 259.5,-179.5 259.5,-179.5 253.5,-179.5 247.5,-173.5 247.5,-167.5 247.5,-167.5 247.5,-123.5 247.5,-123.5 247.5,-117.5 253.5,-111.5 259.5,-111.5 259.5,-111.5 352.5,-111.5 352.5,-111.5 358.5,-111.5 364.5,-117.5 364.5,-123.5 364.5,-123.5 364.5,-167.5 364.5,-167.5 364.5,-173.5 358.5,-179.5 352.5,-179.5\"/>\n<text text-anchor=\"middle\" x=\"306\" y=\"-164.3\" font-family=\"Helvetica,sans-Serif\" font-size=\"14.00\">gini = 0.0</text>\n<text text-anchor=\"middle\" x=\"306\" y=\"-149.3\" font-family=\"Helvetica,sans-Serif\" font-size=\"14.00\">samples = 1436</text>\n<text text-anchor=\"middle\" x=\"306\" y=\"-134.3\" font-family=\"Helvetica,sans-Serif\" font-size=\"14.00\">value = [0, 1436]</text>\n<text text-anchor=\"middle\" x=\"306\" y=\"-119.3\" font-family=\"Helvetica,sans-Serif\" font-size=\"14.00\">class = Diabetes</text>\n</g>\n<!-- 1&#45;&gt;5 -->\n<g id=\"edge5\" class=\"edge\">\n<title>1&#45;&gt;5</title>\n<path fill=\"none\" stroke=\"black\" d=\"M257.02,-222.91C264.24,-211.65 272.08,-199.42 279.33,-188.11\"/>\n<polygon fill=\"black\" stroke=\"black\" points=\"282.29,-189.97 284.74,-179.67 276.4,-186.2 282.29,-189.97\"/>\n</g>\n<!-- 3 -->\n<g id=\"node4\" class=\"node\">\n<title>3</title>\n<path fill=\"#e5833b\" stroke=\"black\" d=\"M128,-68C128,-68 12,-68 12,-68 6,-68 0,-62 0,-56 0,-56 0,-12 0,-12 0,-6 6,0 12,0 12,0 128,0 128,0 134,0 140,-6 140,-12 140,-12 140,-56 140,-56 140,-62 134,-68 128,-68\"/>\n<text text-anchor=\"middle\" x=\"70\" y=\"-52.8\" font-family=\"Helvetica,sans-Serif\" font-size=\"14.00\">gini = 0.024</text>\n<text text-anchor=\"middle\" x=\"70\" y=\"-37.8\" font-family=\"Helvetica,sans-Serif\" font-size=\"14.00\">samples = 51682</text>\n<text text-anchor=\"middle\" x=\"70\" y=\"-22.8\" font-family=\"Helvetica,sans-Serif\" font-size=\"14.00\">value = [51047, 635]</text>\n<text text-anchor=\"middle\" x=\"70\" y=\"-7.8\" font-family=\"Helvetica,sans-Serif\" font-size=\"14.00\">class = No Diabetes</text>\n</g>\n<!-- 2&#45;&gt;3 -->\n<g id=\"edge3\" class=\"edge\">\n<title>2&#45;&gt;3</title>\n<path fill=\"none\" stroke=\"black\" d=\"M123.98,-103.73C116.96,-94.79 109.52,-85.32 102.48,-76.36\"/>\n<polygon fill=\"black\" stroke=\"black\" points=\"105.08,-74 96.15,-68.3 99.58,-78.33 105.08,-74\"/>\n</g>\n<!-- 4 -->\n<g id=\"node5\" class=\"node\">\n<title>4</title>\n<path fill=\"#e78a48\" stroke=\"black\" d=\"M316,-68C316,-68 170,-68 170,-68 164,-68 158,-62 158,-56 158,-56 158,-12 158,-12 158,-6 164,0 170,0 170,0 316,0 316,0 322,0 328,-6 328,-12 328,-12 328,-56 328,-56 328,-62 322,-68 316,-68\"/>\n<text text-anchor=\"middle\" x=\"243\" y=\"-52.8\" font-family=\"Helvetica,sans-Serif\" font-size=\"14.00\">gini = 0.127</text>\n<text text-anchor=\"middle\" x=\"243\" y=\"-37.8\" font-family=\"Helvetica,sans-Serif\" font-size=\"14.00\">samples = 23777</text>\n<text text-anchor=\"middle\" x=\"243\" y=\"-22.8\" font-family=\"Helvetica,sans-Serif\" font-size=\"14.00\">value = [22153.0, 1624.0]</text>\n<text text-anchor=\"middle\" x=\"243\" y=\"-7.8\" font-family=\"Helvetica,sans-Serif\" font-size=\"14.00\">class = No Diabetes</text>\n</g>\n<!-- 2&#45;&gt;4 -->\n<g id=\"edge4\" class=\"edge\">\n<title>2&#45;&gt;4</title>\n<path fill=\"none\" stroke=\"black\" d=\"M188.4,-103.73C195.5,-94.79 203.02,-85.32 210.14,-76.36\"/>\n<polygon fill=\"black\" stroke=\"black\" points=\"213.06,-78.31 216.54,-68.3 207.58,-73.95 213.06,-78.31\"/>\n</g>\n</g>\n</svg>\n",
            "text/plain": [
              "<graphviz.sources.Source at 0x7d87f6ee2780>"
            ]
          },
          "metadata": {},
          "execution_count": 39
        }
      ]
    },
    {
      "cell_type": "markdown",
      "source": [
        "**Nhiệm vụ 2: Tìm tham số tối ưu cho cây quyết định**\n",
        "1. GridSearchCV để chọn tham số\n"
      ],
      "metadata": {
        "id": "sUnxZmcavglf"
      }
    },
    {
      "cell_type": "code",
      "source": [
        "params = {'max_depth':[2,3,4,5,6,8,10]}\n",
        "grid_dt = GridSearchCV(tree.DecisionTreeClassifier(random_state=42),\n",
        "                       param_grid=params,\n",
        "                       scoring='accuracy',\n",
        "                       cv=4,\n",
        "                       return_train_score=True,\n",
        "                       verbose=1)\n",
        "grid_dt.fit(X_train, y_train)\n",
        "\n",
        "print(\"Best params:\", grid_dt.best_params_)\n",
        "print(\"Best CV score:\", grid_dt.best_score_)\n"
      ],
      "metadata": {
        "colab": {
          "base_uri": "https://localhost:8080/"
        },
        "id": "I5FnZNN-viHN",
        "outputId": "353f0879-1318-4ba3-f7e9-1f38adcf9e83"
      },
      "execution_count": null,
      "outputs": [
        {
          "output_type": "stream",
          "name": "stdout",
          "text": [
            "Fitting 4 folds for each of 7 candidates, totalling 28 fits\n",
            "Best params: {'max_depth': 2}\n",
            "Best CV score: 0.9717625\n"
          ]
        }
      ]
    },
    {
      "cell_type": "markdown",
      "source": [
        "2. Vẽ biểu đồ theo max_depth"
      ],
      "metadata": {
        "id": "0otdHmOJvn5I"
      }
    },
    {
      "cell_type": "code",
      "source": [
        "cv_results_df = pd.DataFrame(grid_dt.cv_results_)\n",
        "\n",
        "plt.figure(figsize=(8,5))\n",
        "plt.errorbar(cv_results_df['param_max_depth'],\n",
        "             cv_results_df['mean_train_score'],\n",
        "             yerr=cv_results_df['std_train_score']/np.sqrt(4),\n",
        "             label='Train score')\n",
        "plt.errorbar(cv_results_df['param_max_depth'],\n",
        "             cv_results_df['mean_test_score'],\n",
        "             yerr=cv_results_df['std_test_score']/np.sqrt(4),\n",
        "             label='Validation score')\n",
        "plt.xlabel('max_depth')\n",
        "plt.ylabel('Accuracy')\n",
        "plt.title('Decision Tree depth tuning')\n",
        "plt.legend()\n",
        "plt.show()"
      ],
      "metadata": {
        "colab": {
          "base_uri": "https://localhost:8080/",
          "height": 719
        },
        "id": "j2CmDLqOwThl",
        "outputId": "34700aeb-0c4b-4277-e840-10e77bf6a804"
      },
      "execution_count": null,
      "outputs": [
        {
          "output_type": "display_data",
          "data": {
            "text/plain": [
              "<Figure size 1200x750 with 1 Axes>"
            ],
            "image/png": "[encoded data removed]"
          },
          "metadata": {}
        }
      ]
    },
    {
      "cell_type": "markdown",
      "source": [
        "**Nhiệm vụ 3: Xây dựng rừng cây (Random Forest)**\n",
        "1. Tạo mô hình Random Forest và GridSearchCV"
      ],
      "metadata": {
        "id": "WZqQR_mQwWVR"
      }
    },
    {
      "cell_type": "code",
      "source": [
        "rf = RandomForestClassifier(random_state=42)\n",
        "\n",
        "rf_params = {'n_estimators':list(range(10,110,10))}\n",
        "\n",
        "cv_rf = GridSearchCV(rf,\n",
        "                     param_grid=rf_params,\n",
        "                     scoring='accuracy',\n",
        "                     cv=4,\n",
        "                     return_train_score=True,\n",
        "                     verbose=1)\n",
        "cv_rf.fit(X_train, y_train)\n",
        "\n",
        "print(\"Best params:\", cv_rf.best_params_)\n",
        "print(\"Best CV score:\", cv_rf.best_score_)"
      ],
      "metadata": {
        "colab": {
          "base_uri": "https://localhost:8080/",
          "height": 373
        },
        "id": "1JkV78F7wgKr",
        "outputId": "03652339-9ef8-487a-b4ed-e33f75f08a40"
      },
      "execution_count": null,
      "outputs": [
        {
          "output_type": "stream",
          "name": "stdout",
          "text": [
            "Fitting 4 folds for each of 10 candidates, totalling 40 fits\n"
          ]
        },
        {
          "output_type": "error",
          "ename": "KeyboardInterrupt",
          "evalue": "",
          "traceback": [
            "\u001b[0;31m---------------------------------------------------------------------------\u001b[0m",
            "\u001b[0;31mKeyboardInterrupt\u001b[0m                         Traceback (most recent call last)",
            "\u001b[0;32m/tmp/ipython-input-3588213772.py\u001b[0m in \u001b[0;36m<cell line: 0>\u001b[0;34m()\u001b[0m\n\u001b[1;32m      9\u001b[0m                      \u001b[0mreturn_train_score\u001b[0m\u001b[0;34m=\u001b[0m\u001b[0;32mTrue\u001b[0m\u001b[0;34m,\u001b[0m\u001b[0;34m\u001b[0m\u001b[0;34m\u001b[0m\u001b[0m\n\u001b[1;32m     10\u001b[0m                      verbose=1)\n\u001b[0;32m---> 11\u001b[0;31m \u001b[0mcv_rf\u001b[0m\u001b[0;34m.\u001b[0m\u001b[0mfit\u001b[0m\u001b[0;34m(\u001b[0m\u001b[0mX_train\u001b[0m\u001b[0;34m,\u001b[0m \u001b[0my_train\u001b[0m\u001b[0;34m)\u001b[0m\u001b[0;34m\u001b[0m\u001b[0;34m\u001b[0m\u001b[0m\n\u001b[0m\u001b[1;32m     12\u001b[0m \u001b[0;34m\u001b[0m\u001b[0m\n\u001b[1;32m     13\u001b[0m \u001b[0mprint\u001b[0m\u001b[0;34m(\u001b[0m\u001b[0;34m\"Best params:\"\u001b[0m\u001b[0;34m,\u001b[0m \u001b[0mcv_rf\u001b[0m\u001b[0;34m.\u001b[0m\u001b[0mbest_params_\u001b[0m\u001b[0;34m)\u001b[0m\u001b[0;34m\u001b[0m\u001b[0;34m\u001b[0m\u001b[0m\n",
            "\u001b[0;32m/usr/local/lib/python3.12/dist-packages/sklearn/base.py\u001b[0m in \u001b[0;36mwrapper\u001b[0;34m(estimator, *args, **kwargs)\u001b[0m\n\u001b[1;32m   1387\u001b[0m                 )\n\u001b[1;32m   1388\u001b[0m             ):\n\u001b[0;32m-> 1389\u001b[0;31m                 \u001b[0;32mreturn\u001b[0m \u001b[0mfit_method\u001b[0m\u001b[0;34m(\u001b[0m\u001b[0mestimator\u001b[0m\u001b[0;34m,\u001b[0m \u001b[0;34m*\u001b[0m\u001b[0margs\u001b[0m\u001b[0;34m,\u001b[0m \u001b[0;34m**\u001b[0m\u001b[0mkwargs\u001b[0m\u001b[0;34m)\u001b[0m\u001b[0;34m\u001b[0m\u001b[0;34m\u001b[0m\u001b[0m\n\u001b[0m\u001b[1;32m   1390\u001b[0m \u001b[0;34m\u001b[0m\u001b[0m\n\u001b[1;32m   1391\u001b[0m         \u001b[0;32mreturn\u001b[0m \u001b[0mwrapper\u001b[0m\u001b[0;34m\u001b[0m\u001b[0;34m\u001b[0m\u001b[0m\n",
            "\u001b[0;32m/usr/local/lib/python3.12/dist-packages/sklearn/model_selection/_search.py\u001b[0m in \u001b[0;36mfit\u001b[0;34m(self, X, y, **params)\u001b[0m\n\u001b[1;32m   1022\u001b[0m                 \u001b[0;32mreturn\u001b[0m \u001b[0mresults\u001b[0m\u001b[0;34m\u001b[0m\u001b[0;34m\u001b[0m\u001b[0m\n\u001b[1;32m   1023\u001b[0m \u001b[0;34m\u001b[0m\u001b[0m\n\u001b[0;32m-> 1024\u001b[0;31m             \u001b[0mself\u001b[0m\u001b[0;34m.\u001b[0m\u001b[0m_run_search\u001b[0m\u001b[0;34m(\u001b[0m\u001b[0mevaluate_candidates\u001b[0m\u001b[0;34m)\u001b[0m\u001b[0;34m\u001b[0m\u001b[0;34m\u001b[0m\u001b[0m\n\u001b[0m\u001b[1;32m   1025\u001b[0m \u001b[0;34m\u001b[0m\u001b[0m\n\u001b[1;32m   1026\u001b[0m             \u001b[0;31m# multimetric is determined here because in the case of a callable\u001b[0m\u001b[0;34m\u001b[0m\u001b[0;34m\u001b[0m\u001b[0m\n",
            "\u001b[0;32m/usr/local/lib/python3.12/dist-packages/sklearn/model_selection/_search.py\u001b[0m in \u001b[0;36m_run_search\u001b[0;34m(self, evaluate_candidates)\u001b[0m\n\u001b[1;32m   1569\u001b[0m     \u001b[0;32mdef\u001b[0m \u001b[0m_run_search\u001b[0m\u001b[0;34m(\u001b[0m\u001b[0mself\u001b[0m\u001b[0;34m,\u001b[0m \u001b[0mevaluate_candidates\u001b[0m\u001b[0;34m)\u001b[0m\u001b[0;34m:\u001b[0m\u001b[0;34m\u001b[0m\u001b[0;34m\u001b[0m\u001b[0m\n\u001b[1;32m   1570\u001b[0m         \u001b[0;34m\"\"\"Search all candidates in param_grid\"\"\"\u001b[0m\u001b[0;34m\u001b[0m\u001b[0;34m\u001b[0m\u001b[0m\n\u001b[0;32m-> 1571\u001b[0;31m         \u001b[0mevaluate_candidates\u001b[0m\u001b[0;34m(\u001b[0m\u001b[0mParameterGrid\u001b[0m\u001b[0;34m(\u001b[0m\u001b[0mself\u001b[0m\u001b[0;34m.\u001b[0m\u001b[0mparam_grid\u001b[0m\u001b[0;34m)\u001b[0m\u001b[0;34m)\u001b[0m\u001b[0;34m\u001b[0m\u001b[0;34m\u001b[0m\u001b[0m\n\u001b[0m\u001b[1;32m   1572\u001b[0m \u001b[0;34m\u001b[0m\u001b[0m\n\u001b[1;32m   1573\u001b[0m \u001b[0;34m\u001b[0m\u001b[0m\n",
            "\u001b[0;32m/usr/local/lib/python3.12/dist-packages/sklearn/model_selection/_search.py\u001b[0m in \u001b[0;36mevaluate_candidates\u001b[0;34m(candidate_params, cv, more_results)\u001b[0m\n\u001b[1;32m    968\u001b[0m                     )\n\u001b[1;32m    969\u001b[0m \u001b[0;34m\u001b[0m\u001b[0m\n\u001b[0;32m--> 970\u001b[0;31m                 out = parallel(\n\u001b[0m\u001b[1;32m    971\u001b[0m                     delayed(_fit_and_score)(\n\u001b[1;32m    972\u001b[0m                         \u001b[0mclone\u001b[0m\u001b[0;34m(\u001b[0m\u001b[0mbase_estimator\u001b[0m\u001b[0;34m)\u001b[0m\u001b[0;34m,\u001b[0m\u001b[0;34m\u001b[0m\u001b[0;34m\u001b[0m\u001b[0m\n",
            "\u001b[0;32m/usr/local/lib/python3.12/dist-packages/sklearn/utils/parallel.py\u001b[0m in \u001b[0;36m__call__\u001b[0;34m(self, iterable)\u001b[0m\n\u001b[1;32m     75\u001b[0m             \u001b[0;32mfor\u001b[0m \u001b[0mdelayed_func\u001b[0m\u001b[0;34m,\u001b[0m \u001b[0margs\u001b[0m\u001b[0;34m,\u001b[0m \u001b[0mkwargs\u001b[0m \u001b[0;32min\u001b[0m \u001b[0miterable\u001b[0m\u001b[0;34m\u001b[0m\u001b[0;34m\u001b[0m\u001b[0m\n\u001b[1;32m     76\u001b[0m         )\n\u001b[0;32m---> 77\u001b[0;31m         \u001b[0;32mreturn\u001b[0m \u001b[0msuper\u001b[0m\u001b[0;34m(\u001b[0m\u001b[0;34m)\u001b[0m\u001b[0;34m.\u001b[0m\u001b[0m__call__\u001b[0m\u001b[0;34m(\u001b[0m\u001b[0miterable_with_config\u001b[0m\u001b[0;34m)\u001b[0m\u001b[0;34m\u001b[0m\u001b[0;34m\u001b[0m\u001b[0m\n\u001b[0m\u001b[1;32m     78\u001b[0m \u001b[0;34m\u001b[0m\u001b[0m\n\u001b[1;32m     79\u001b[0m \u001b[0;34m\u001b[0m\u001b[0m\n",
            "\u001b[0;32m/usr/local/lib/python3.12/dist-packages/joblib/parallel.py\u001b[0m in \u001b[0;36m__call__\u001b[0;34m(self, iterable)\u001b[0m\n\u001b[1;32m   1984\u001b[0m             \u001b[0moutput\u001b[0m \u001b[0;34m=\u001b[0m \u001b[0mself\u001b[0m\u001b[0;34m.\u001b[0m\u001b[0m_get_sequential_output\u001b[0m\u001b[0;34m(\u001b[0m\u001b[0miterable\u001b[0m\u001b[0;34m)\u001b[0m\u001b[0;34m\u001b[0m\u001b[0;34m\u001b[0m\u001b[0m\n\u001b[1;32m   1985\u001b[0m             \u001b[0mnext\u001b[0m\u001b[0;34m(\u001b[0m\u001b[0moutput\u001b[0m\u001b[0;34m)\u001b[0m\u001b[0;34m\u001b[0m\u001b[0;34m\u001b[0m\u001b[0m\n\u001b[0;32m-> 1986\u001b[0;31m             \u001b[0;32mreturn\u001b[0m \u001b[0moutput\u001b[0m \u001b[0;32mif\u001b[0m \u001b[0mself\u001b[0m\u001b[0;34m.\u001b[0m\u001b[0mreturn_generator\u001b[0m \u001b[0;32melse\u001b[0m \u001b[0mlist\u001b[0m\u001b[0;34m(\u001b[0m\u001b[0moutput\u001b[0m\u001b[0;34m)\u001b[0m\u001b[0;34m\u001b[0m\u001b[0;34m\u001b[0m\u001b[0m\n\u001b[0m\u001b[1;32m   1987\u001b[0m \u001b[0;34m\u001b[0m\u001b[0m\n\u001b[1;32m   1988\u001b[0m         \u001b[0;31m# Let's create an ID that uniquely identifies the current call. If the\u001b[0m\u001b[0;34m\u001b[0m\u001b[0;34m\u001b[0m\u001b[0m\n",
            "\u001b[0;32m/usr/local/lib/python3.12/dist-packages/joblib/parallel.py\u001b[0m in \u001b[0;36m_get_sequential_output\u001b[0;34m(self, iterable)\u001b[0m\n\u001b[1;32m   1912\u001b[0m                 \u001b[0mself\u001b[0m\u001b[0;34m.\u001b[0m\u001b[0mn_dispatched_batches\u001b[0m \u001b[0;34m+=\u001b[0m \u001b[0;36m1\u001b[0m\u001b[0;34m\u001b[0m\u001b[0;34m\u001b[0m\u001b[0m\n\u001b[1;32m   1913\u001b[0m                 \u001b[0mself\u001b[0m\u001b[0;34m.\u001b[0m\u001b[0mn_dispatched_tasks\u001b[0m \u001b[0;34m+=\u001b[0m \u001b[0;36m1\u001b[0m\u001b[0;34m\u001b[0m\u001b[0;34m\u001b[0m\u001b[0m\n\u001b[0;32m-> 1914\u001b[0;31m                 \u001b[0mres\u001b[0m \u001b[0;34m=\u001b[0m \u001b[0mfunc\u001b[0m\u001b[0;34m(\u001b[0m\u001b[0;34m*\u001b[0m\u001b[0margs\u001b[0m\u001b[0;34m,\u001b[0m \u001b[0;34m**\u001b[0m\u001b[0mkwargs\u001b[0m\u001b[0;34m)\u001b[0m\u001b[0;34m\u001b[0m\u001b[0;34m\u001b[0m\u001b[0m\n\u001b[0m\u001b[1;32m   1915\u001b[0m                 \u001b[0mself\u001b[0m\u001b[0;34m.\u001b[0m\u001b[0mn_completed_tasks\u001b[0m \u001b[0;34m+=\u001b[0m \u001b[0;36m1\u001b[0m\u001b[0;34m\u001b[0m\u001b[0;34m\u001b[0m\u001b[0m\n\u001b[1;32m   1916\u001b[0m                 \u001b[0mself\u001b[0m\u001b[0;34m.\u001b[0m\u001b[0mprint_progress\u001b[0m\u001b[0;34m(\u001b[0m\u001b[0;34m)\u001b[0m\u001b[0;34m\u001b[0m\u001b[0;34m\u001b[0m\u001b[0m\n",
            "\u001b[0;32m/usr/local/lib/python3.12/dist-packages/sklearn/utils/parallel.py\u001b[0m in \u001b[0;36m__call__\u001b[0;34m(self, *args, **kwargs)\u001b[0m\n\u001b[1;32m    137\u001b[0m             \u001b[0mconfig\u001b[0m \u001b[0;34m=\u001b[0m \u001b[0;34m{\u001b[0m\u001b[0;34m}\u001b[0m\u001b[0;34m\u001b[0m\u001b[0;34m\u001b[0m\u001b[0m\n\u001b[1;32m    138\u001b[0m         \u001b[0;32mwith\u001b[0m \u001b[0mconfig_context\u001b[0m\u001b[0;34m(\u001b[0m\u001b[0;34m**\u001b[0m\u001b[0mconfig\u001b[0m\u001b[0;34m)\u001b[0m\u001b[0;34m:\u001b[0m\u001b[0;34m\u001b[0m\u001b[0;34m\u001b[0m\u001b[0m\n\u001b[0;32m--> 139\u001b[0;31m             \u001b[0;32mreturn\u001b[0m \u001b[0mself\u001b[0m\u001b[0;34m.\u001b[0m\u001b[0mfunction\u001b[0m\u001b[0;34m(\u001b[0m\u001b[0;34m*\u001b[0m\u001b[0margs\u001b[0m\u001b[0;34m,\u001b[0m \u001b[0;34m**\u001b[0m\u001b[0mkwargs\u001b[0m\u001b[0;34m)\u001b[0m\u001b[0;34m\u001b[0m\u001b[0;34m\u001b[0m\u001b[0m\n\u001b[0m\u001b[1;32m    140\u001b[0m \u001b[0;34m\u001b[0m\u001b[0m\n\u001b[1;32m    141\u001b[0m \u001b[0;34m\u001b[0m\u001b[0m\n",
            "\u001b[0;32m/usr/local/lib/python3.12/dist-packages/sklearn/model_selection/_validation.py\u001b[0m in \u001b[0;36m_fit_and_score\u001b[0;34m(estimator, X, y, scorer, train, test, verbose, parameters, fit_params, score_params, return_train_score, return_parameters, return_n_test_samples, return_times, return_estimator, split_progress, candidate_progress, error_score)\u001b[0m\n\u001b[1;32m    864\u001b[0m             \u001b[0mestimator\u001b[0m\u001b[0;34m.\u001b[0m\u001b[0mfit\u001b[0m\u001b[0;34m(\u001b[0m\u001b[0mX_train\u001b[0m\u001b[0;34m,\u001b[0m \u001b[0;34m**\u001b[0m\u001b[0mfit_params\u001b[0m\u001b[0;34m)\u001b[0m\u001b[0;34m\u001b[0m\u001b[0;34m\u001b[0m\u001b[0m\n\u001b[1;32m    865\u001b[0m         \u001b[0;32melse\u001b[0m\u001b[0;34m:\u001b[0m\u001b[0;34m\u001b[0m\u001b[0;34m\u001b[0m\u001b[0m\n\u001b[0;32m--> 866\u001b[0;31m             \u001b[0mestimator\u001b[0m\u001b[0;34m.\u001b[0m\u001b[0mfit\u001b[0m\u001b[0;34m(\u001b[0m\u001b[0mX_train\u001b[0m\u001b[0;34m,\u001b[0m \u001b[0my_train\u001b[0m\u001b[0;34m,\u001b[0m \u001b[0;34m**\u001b[0m\u001b[0mfit_params\u001b[0m\u001b[0;34m)\u001b[0m\u001b[0;34m\u001b[0m\u001b[0;34m\u001b[0m\u001b[0m\n\u001b[0m\u001b[1;32m    867\u001b[0m \u001b[0;34m\u001b[0m\u001b[0m\n\u001b[1;32m    868\u001b[0m     \u001b[0;32mexcept\u001b[0m \u001b[0mException\u001b[0m\u001b[0;34m:\u001b[0m\u001b[0;34m\u001b[0m\u001b[0;34m\u001b[0m\u001b[0m\n",
            "\u001b[0;32m/usr/local/lib/python3.12/dist-packages/sklearn/base.py\u001b[0m in \u001b[0;36mwrapper\u001b[0;34m(estimator, *args, **kwargs)\u001b[0m\n\u001b[1;32m   1387\u001b[0m                 )\n\u001b[1;32m   1388\u001b[0m             ):\n\u001b[0;32m-> 1389\u001b[0;31m                 \u001b[0;32mreturn\u001b[0m \u001b[0mfit_method\u001b[0m\u001b[0;34m(\u001b[0m\u001b[0mestimator\u001b[0m\u001b[0;34m,\u001b[0m \u001b[0;34m*\u001b[0m\u001b[0margs\u001b[0m\u001b[0;34m,\u001b[0m \u001b[0;34m**\u001b[0m\u001b[0mkwargs\u001b[0m\u001b[0;34m)\u001b[0m\u001b[0;34m\u001b[0m\u001b[0;34m\u001b[0m\u001b[0m\n\u001b[0m\u001b[1;32m   1390\u001b[0m \u001b[0;34m\u001b[0m\u001b[0m\n\u001b[1;32m   1391\u001b[0m         \u001b[0;32mreturn\u001b[0m \u001b[0mwrapper\u001b[0m\u001b[0;34m\u001b[0m\u001b[0;34m\u001b[0m\u001b[0m\n",
            "\u001b[0;32m/usr/local/lib/python3.12/dist-packages/sklearn/ensemble/_forest.py\u001b[0m in \u001b[0;36mfit\u001b[0;34m(self, X, y, sample_weight)\u001b[0m\n\u001b[1;32m    485\u001b[0m             \u001b[0;31m# parallel_backend contexts set at a higher level,\u001b[0m\u001b[0;34m\u001b[0m\u001b[0;34m\u001b[0m\u001b[0m\n\u001b[1;32m    486\u001b[0m             \u001b[0;31m# since correctness does not rely on using threads.\u001b[0m\u001b[0;34m\u001b[0m\u001b[0;34m\u001b[0m\u001b[0m\n\u001b[0;32m--> 487\u001b[0;31m             trees = Parallel(\n\u001b[0m\u001b[1;32m    488\u001b[0m                 \u001b[0mn_jobs\u001b[0m\u001b[0;34m=\u001b[0m\u001b[0mself\u001b[0m\u001b[0;34m.\u001b[0m\u001b[0mn_jobs\u001b[0m\u001b[0;34m,\u001b[0m\u001b[0;34m\u001b[0m\u001b[0;34m\u001b[0m\u001b[0m\n\u001b[1;32m    489\u001b[0m                 \u001b[0mverbose\u001b[0m\u001b[0;34m=\u001b[0m\u001b[0mself\u001b[0m\u001b[0;34m.\u001b[0m\u001b[0mverbose\u001b[0m\u001b[0;34m,\u001b[0m\u001b[0;34m\u001b[0m\u001b[0;34m\u001b[0m\u001b[0m\n",
            "\u001b[0;32m/usr/local/lib/python3.12/dist-packages/sklearn/utils/parallel.py\u001b[0m in \u001b[0;36m__call__\u001b[0;34m(self, iterable)\u001b[0m\n\u001b[1;32m     75\u001b[0m             \u001b[0;32mfor\u001b[0m \u001b[0mdelayed_func\u001b[0m\u001b[0;34m,\u001b[0m \u001b[0margs\u001b[0m\u001b[0;34m,\u001b[0m \u001b[0mkwargs\u001b[0m \u001b[0;32min\u001b[0m \u001b[0miterable\u001b[0m\u001b[0;34m\u001b[0m\u001b[0;34m\u001b[0m\u001b[0m\n\u001b[1;32m     76\u001b[0m         )\n\u001b[0;32m---> 77\u001b[0;31m         \u001b[0;32mreturn\u001b[0m \u001b[0msuper\u001b[0m\u001b[0;34m(\u001b[0m\u001b[0;34m)\u001b[0m\u001b[0;34m.\u001b[0m\u001b[0m__call__\u001b[0m\u001b[0;34m(\u001b[0m\u001b[0miterable_with_config\u001b[0m\u001b[0;34m)\u001b[0m\u001b[0;34m\u001b[0m\u001b[0;34m\u001b[0m\u001b[0m\n\u001b[0m\u001b[1;32m     78\u001b[0m \u001b[0;34m\u001b[0m\u001b[0m\n\u001b[1;32m     79\u001b[0m \u001b[0;34m\u001b[0m\u001b[0m\n",
            "\u001b[0;32m/usr/local/lib/python3.12/dist-packages/joblib/parallel.py\u001b[0m in \u001b[0;36m__call__\u001b[0;34m(self, iterable)\u001b[0m\n\u001b[1;32m   1984\u001b[0m             \u001b[0moutput\u001b[0m \u001b[0;34m=\u001b[0m \u001b[0mself\u001b[0m\u001b[0;34m.\u001b[0m\u001b[0m_get_sequential_output\u001b[0m\u001b[0;34m(\u001b[0m\u001b[0miterable\u001b[0m\u001b[0;34m)\u001b[0m\u001b[0;34m\u001b[0m\u001b[0;34m\u001b[0m\u001b[0m\n\u001b[1;32m   1985\u001b[0m             \u001b[0mnext\u001b[0m\u001b[0;34m(\u001b[0m\u001b[0moutput\u001b[0m\u001b[0;34m)\u001b[0m\u001b[0;34m\u001b[0m\u001b[0;34m\u001b[0m\u001b[0m\n\u001b[0;32m-> 1986\u001b[0;31m             \u001b[0;32mreturn\u001b[0m \u001b[0moutput\u001b[0m \u001b[0;32mif\u001b[0m \u001b[0mself\u001b[0m\u001b[0;34m.\u001b[0m\u001b[0mreturn_generator\u001b[0m \u001b[0;32melse\u001b[0m \u001b[0mlist\u001b[0m\u001b[0;34m(\u001b[0m\u001b[0moutput\u001b[0m\u001b[0;34m)\u001b[0m\u001b[0;34m\u001b[0m\u001b[0;34m\u001b[0m\u001b[0m\n\u001b[0m\u001b[1;32m   1987\u001b[0m \u001b[0;34m\u001b[0m\u001b[0m\n\u001b[1;32m   1988\u001b[0m         \u001b[0;31m# Let's create an ID that uniquely identifies the current call. If the\u001b[0m\u001b[0;34m\u001b[0m\u001b[0;34m\u001b[0m\u001b[0m\n",
            "\u001b[0;32m/usr/local/lib/python3.12/dist-packages/joblib/parallel.py\u001b[0m in \u001b[0;36m_get_sequential_output\u001b[0;34m(self, iterable)\u001b[0m\n\u001b[1;32m   1912\u001b[0m                 \u001b[0mself\u001b[0m\u001b[0;34m.\u001b[0m\u001b[0mn_dispatched_batches\u001b[0m \u001b[0;34m+=\u001b[0m \u001b[0;36m1\u001b[0m\u001b[0;34m\u001b[0m\u001b[0;34m\u001b[0m\u001b[0m\n\u001b[1;32m   1913\u001b[0m                 \u001b[0mself\u001b[0m\u001b[0;34m.\u001b[0m\u001b[0mn_dispatched_tasks\u001b[0m \u001b[0;34m+=\u001b[0m \u001b[0;36m1\u001b[0m\u001b[0;34m\u001b[0m\u001b[0;34m\u001b[0m\u001b[0m\n\u001b[0;32m-> 1914\u001b[0;31m                 \u001b[0mres\u001b[0m \u001b[0;34m=\u001b[0m \u001b[0mfunc\u001b[0m\u001b[0;34m(\u001b[0m\u001b[0;34m*\u001b[0m\u001b[0margs\u001b[0m\u001b[0;34m,\u001b[0m \u001b[0;34m**\u001b[0m\u001b[0mkwargs\u001b[0m\u001b[0;34m)\u001b[0m\u001b[0;34m\u001b[0m\u001b[0;34m\u001b[0m\u001b[0m\n\u001b[0m\u001b[1;32m   1915\u001b[0m                 \u001b[0mself\u001b[0m\u001b[0;34m.\u001b[0m\u001b[0mn_completed_tasks\u001b[0m \u001b[0;34m+=\u001b[0m \u001b[0;36m1\u001b[0m\u001b[0;34m\u001b[0m\u001b[0;34m\u001b[0m\u001b[0m\n\u001b[1;32m   1916\u001b[0m                 \u001b[0mself\u001b[0m\u001b[0;34m.\u001b[0m\u001b[0mprint_progress\u001b[0m\u001b[0;34m(\u001b[0m\u001b[0;34m)\u001b[0m\u001b[0;34m\u001b[0m\u001b[0;34m\u001b[0m\u001b[0m\n",
            "\u001b[0;32m/usr/local/lib/python3.12/dist-packages/sklearn/utils/parallel.py\u001b[0m in \u001b[0;36m__call__\u001b[0;34m(self, *args, **kwargs)\u001b[0m\n\u001b[1;32m    137\u001b[0m             \u001b[0mconfig\u001b[0m \u001b[0;34m=\u001b[0m \u001b[0;34m{\u001b[0m\u001b[0;34m}\u001b[0m\u001b[0;34m\u001b[0m\u001b[0;34m\u001b[0m\u001b[0m\n\u001b[1;32m    138\u001b[0m         \u001b[0;32mwith\u001b[0m \u001b[0mconfig_context\u001b[0m\u001b[0;34m(\u001b[0m\u001b[0;34m**\u001b[0m\u001b[0mconfig\u001b[0m\u001b[0;34m)\u001b[0m\u001b[0;34m:\u001b[0m\u001b[0;34m\u001b[0m\u001b[0;34m\u001b[0m\u001b[0m\n\u001b[0;32m--> 139\u001b[0;31m             \u001b[0;32mreturn\u001b[0m \u001b[0mself\u001b[0m\u001b[0;34m.\u001b[0m\u001b[0mfunction\u001b[0m\u001b[0;34m(\u001b[0m\u001b[0;34m*\u001b[0m\u001b[0margs\u001b[0m\u001b[0;34m,\u001b[0m \u001b[0;34m**\u001b[0m\u001b[0mkwargs\u001b[0m\u001b[0;34m)\u001b[0m\u001b[0;34m\u001b[0m\u001b[0;34m\u001b[0m\u001b[0m\n\u001b[0m\u001b[1;32m    140\u001b[0m \u001b[0;34m\u001b[0m\u001b[0m\n\u001b[1;32m    141\u001b[0m \u001b[0;34m\u001b[0m\u001b[0m\n",
            "\u001b[0;32m/usr/local/lib/python3.12/dist-packages/sklearn/ensemble/_forest.py\u001b[0m in \u001b[0;36m_parallel_build_trees\u001b[0;34m(tree, bootstrap, X, y, sample_weight, tree_idx, n_trees, verbose, class_weight, n_samples_bootstrap, missing_values_in_feature_mask)\u001b[0m\n\u001b[1;32m    187\u001b[0m             \u001b[0mcurr_sample_weight\u001b[0m \u001b[0;34m*=\u001b[0m \u001b[0mcompute_sample_weight\u001b[0m\u001b[0;34m(\u001b[0m\u001b[0;34m\"balanced\"\u001b[0m\u001b[0;34m,\u001b[0m \u001b[0my\u001b[0m\u001b[0;34m,\u001b[0m \u001b[0mindices\u001b[0m\u001b[0;34m=\u001b[0m\u001b[0mindices\u001b[0m\u001b[0;34m)\u001b[0m\u001b[0;34m\u001b[0m\u001b[0;34m\u001b[0m\u001b[0m\n\u001b[1;32m    188\u001b[0m \u001b[0;34m\u001b[0m\u001b[0m\n\u001b[0;32m--> 189\u001b[0;31m         tree._fit(\n\u001b[0m\u001b[1;32m    190\u001b[0m             \u001b[0mX\u001b[0m\u001b[0;34m,\u001b[0m\u001b[0;34m\u001b[0m\u001b[0;34m\u001b[0m\u001b[0m\n\u001b[1;32m    191\u001b[0m             \u001b[0my\u001b[0m\u001b[0;34m,\u001b[0m\u001b[0;34m\u001b[0m\u001b[0;34m\u001b[0m\u001b[0m\n",
            "\u001b[0;32m/usr/local/lib/python3.12/dist-packages/sklearn/tree/_classes.py\u001b[0m in \u001b[0;36m_fit\u001b[0;34m(self, X, y, sample_weight, check_input, missing_values_in_feature_mask)\u001b[0m\n\u001b[1;32m    470\u001b[0m             )\n\u001b[1;32m    471\u001b[0m \u001b[0;34m\u001b[0m\u001b[0m\n\u001b[0;32m--> 472\u001b[0;31m         \u001b[0mbuilder\u001b[0m\u001b[0;34m.\u001b[0m\u001b[0mbuild\u001b[0m\u001b[0;34m(\u001b[0m\u001b[0mself\u001b[0m\u001b[0;34m.\u001b[0m\u001b[0mtree_\u001b[0m\u001b[0;34m,\u001b[0m \u001b[0mX\u001b[0m\u001b[0;34m,\u001b[0m \u001b[0my\u001b[0m\u001b[0;34m,\u001b[0m \u001b[0msample_weight\u001b[0m\u001b[0;34m,\u001b[0m \u001b[0mmissing_values_in_feature_mask\u001b[0m\u001b[0;34m)\u001b[0m\u001b[0;34m\u001b[0m\u001b[0;34m\u001b[0m\u001b[0m\n\u001b[0m\u001b[1;32m    473\u001b[0m \u001b[0;34m\u001b[0m\u001b[0m\n\u001b[1;32m    474\u001b[0m         \u001b[0;32mif\u001b[0m \u001b[0mself\u001b[0m\u001b[0;34m.\u001b[0m\u001b[0mn_outputs_\u001b[0m \u001b[0;34m==\u001b[0m \u001b[0;36m1\u001b[0m \u001b[0;32mand\u001b[0m \u001b[0mis_classifier\u001b[0m\u001b[0;34m(\u001b[0m\u001b[0mself\u001b[0m\u001b[0;34m)\u001b[0m\u001b[0;34m:\u001b[0m\u001b[0;34m\u001b[0m\u001b[0;34m\u001b[0m\u001b[0m\n",
            "\u001b[0;31mKeyboardInterrupt\u001b[0m: "
          ]
        }
      ]
    },
    {
      "cell_type": "markdown",
      "source": [
        "2. Vẽ biểu đồ số cây trong rừng"
      ],
      "metadata": {
        "id": "FknFdqYGwtgK"
      }
    },
    {
      "cell_type": "code",
      "source": [
        "cv_rf_results = pd.DataFrame(cv_rf.cv_results_)\n",
        "\n",
        "fig, ax = plt.subplots(1,2, figsize=(12,5))\n",
        "\n",
        "ax[0].plot(cv_rf_results['param_n_estimators'], cv_rf_results['mean_fit_time'], '-o')\n",
        "ax[0].set_xlabel('Number of trees')\n",
        "ax[0].set_ylabel('Mean fit time (s)')\n",
        "\n",
        "ax[1].errorbar(cv_rf_results['param_n_estimators'],\n",
        "               cv_rf_results['mean_test_score'],\n",
        "               yerr=cv_rf_results['std_test_score']/np.sqrt(4))\n",
        "ax[1].set_xlabel('Number of trees')\n",
        "ax[1].set_ylabel('Accuracy (Validation)')\n",
        "\n",
        "plt.tight_layout()\n",
        "plt.show()"
      ],
      "metadata": {
        "id": "TJGGIkedwvmr"
      },
      "execution_count": null,
      "outputs": []
    },
    {
      "cell_type": "markdown",
      "source": [
        "3. Feature importance"
      ],
      "metadata": {
        "id": "5MI9by1FwyiD"
      }
    },
    {
      "cell_type": "code",
      "source": [
        "feat_imp_df = pd.DataFrame({\n",
        "    'Importance': cv_rf.best_estimator_.feature_importances_\n",
        "}, index=X.columns)\n",
        "\n",
        "feat_imp_df.sort_values('Importance', ascending=True).plot.barh(figsize=(8,6))\n",
        "plt.title(\"Feature Importances (Random Forest)\")\n",
        "plt.show()"
      ],
      "metadata": {
        "id": "OXUiz9-Ww2xH"
      },
      "execution_count": null,
      "outputs": []
    },
    {
      "cell_type": "markdown",
      "source": [
        "**2.2.3. Bài tập thực hành 1**\n",
        "\n",
        "Xây dựng mô hình từ giải thuật SVM trên dữ liệu bệnh tiểu đường. Dữ liệu lấy từ\n",
        "https://www.kaggle.com/code/tumpanjawat/diabetes-eda-random-forest-hp\n"
      ],
      "metadata": {
        "id": "cG5XERRRw5GJ"
      }
    },
    {
      "cell_type": "markdown",
      "source": [
        "1. Import và nhập dữ liệu"
      ],
      "metadata": {
        "id": "8ru4ocPvxIi3"
      }
    },
    {
      "cell_type": "code",
      "source": [
        "import numpy as np\n",
        "import pandas as pd\n",
        "import matplotlib.pyplot as plt\n",
        "import seaborn as sns\n",
        "\n",
        "from sklearn.model_selection import train_test_split, GridSearchCV\n",
        "from sklearn.preprocessing import LabelEncoder, StandardScaler\n",
        "from sklearn import svm\n",
        "from sklearn.metrics import accuracy_score, confusion_matrix, classification_report\n",
        "\n",
        "# đọc dữ liệu\n",
        "df = pd.read_csv(\"diabetes_prediction_dataset.csv\")\n",
        "\n",
        "print(\"Kích thước dữ liệu:\", df.shape)\n",
        "print(df.info())\n",
        "print(df.head())\n",
        "print(\"\\nSố lượng nhãn:\\n\", df['diabetes'].value_counts())\n"
      ],
      "metadata": {
        "colab": {
          "base_uri": "https://localhost:8080/"
        },
        "id": "-4guuaHTxM55",
        "outputId": "5f59fcb4-4406-4edf-baf7-72a9483a9669"
      },
      "execution_count": null,
      "outputs": [
        {
          "output_type": "stream",
          "name": "stdout",
          "text": [
            "Kích thước dữ liệu: (27528, 9)\n",
            "<class 'pandas.core.frame.DataFrame'>\n",
            "RangeIndex: 27528 entries, 0 to 27527\n",
            "Data columns (total 9 columns):\n",
            " #   Column               Non-Null Count  Dtype  \n",
            "---  ------               --------------  -----  \n",
            " 0   gender               27528 non-null  object \n",
            " 1   age                  27528 non-null  float64\n",
            " 2   hypertension         27528 non-null  int64  \n",
            " 3   heart_disease        27528 non-null  int64  \n",
            " 4   smoking_history      27528 non-null  object \n",
            " 5   bmi                  27528 non-null  float64\n",
            " 6   HbA1c_level          27528 non-null  float64\n",
            " 7   blood_glucose_level  27528 non-null  int64  \n",
            " 8   diabetes             27528 non-null  int64  \n",
            "dtypes: float64(3), int64(4), object(2)\n",
            "memory usage: 1.9+ MB\n",
            "None\n",
            "   gender   age  hypertension  heart_disease smoking_history    bmi  \\\n",
            "0  Female  80.0             0              1           never  25.19   \n",
            "1  Female  54.0             0              0         No Info  27.32   \n",
            "2    Male  28.0             0              0           never  27.32   \n",
            "3  Female  36.0             0              0         current  23.45   \n",
            "4    Male  76.0             1              1         current  20.14   \n",
            "\n",
            "   HbA1c_level  blood_glucose_level  diabetes  \n",
            "0          6.6                  140         0  \n",
            "1          6.6                   80         0  \n",
            "2          5.7                  158         0  \n",
            "3          5.0                  155         0  \n",
            "4          4.8                  155         0  \n",
            "\n",
            "Số lượng nhãn:\n",
            " diabetes\n",
            "0    25168\n",
            "1     2360\n",
            "Name: count, dtype: int64\n"
          ]
        }
      ]
    },
    {
      "cell_type": "markdown",
      "source": [
        "2. Xử lý dữ liệu"
      ],
      "metadata": {
        "id": "5UbCuycnxNre"
      }
    },
    {
      "cell_type": "code",
      "source": [
        "# Kiểm tra missing\n",
        "print(\"\\nMissing values:\\n\", df.isnull().sum())\n",
        "\n",
        "# Nếu có missing thì fill bằng median (ở đây dataset thường không có missing)\n",
        "df = df.fillna(df.median(numeric_only=True))\n",
        "\n",
        "# Encode cột object (ví dụ: gender, smoking_history)\n",
        "for col in df.select_dtypes(include=['object']).columns:\n",
        "    le = LabelEncoder()\n",
        "    df[col] = le.fit_transform(df[col])\n",
        "\n",
        "# Chuẩn hóa dữ liệu\n",
        "X = df.drop('diabetes', axis=1)\n",
        "y = df['diabetes']\n",
        "\n",
        "scaler = StandardScaler()\n",
        "X_scaled = scaler.fit_transform(X)\n",
        "\n",
        "# chia train/test\n",
        "X_train, X_test, y_train, y_test = train_test_split(\n",
        "    X_scaled, y, test_size=0.2, random_state=42, stratify=y\n",
        ")\n",
        "\n",
        "print(\"Train:\", X_train.shape, \"Test:\", X_test.shape)"
      ],
      "metadata": {
        "colab": {
          "base_uri": "https://localhost:8080/"
        },
        "id": "WDWnZAYpxRGW",
        "outputId": "72f918e1-94bd-4d94-cf17-99bf2bd1aa33"
      },
      "execution_count": null,
      "outputs": [
        {
          "output_type": "stream",
          "name": "stdout",
          "text": [
            "\n",
            "Missing values:\n",
            " gender                 0\n",
            "age                    0\n",
            "hypertension           0\n",
            "heart_disease          0\n",
            "smoking_history        0\n",
            "bmi                    0\n",
            "HbA1c_level            0\n",
            "blood_glucose_level    0\n",
            "diabetes               0\n",
            "dtype: int64\n",
            "Train: (22022, 8) Test: (5506, 8)\n"
          ]
        }
      ]
    },
    {
      "cell_type": "markdown",
      "source": [
        "3. Huấn luyện mô hình SVM cơ bản\n"
      ],
      "metadata": {
        "id": "6pD1ariJxuJu"
      }
    },
    {
      "cell_type": "code",
      "source": [
        "X = data.drop('Purchased', axis=1)   # bỏ cột nhãn\n",
        "y = data['Purchased']\n",
        "\n",
        "# One-hot encode categorical features\n",
        "X = pd.get_dummies(X, columns=['Gender'], drop_first=True) # Assuming 'Gender' is the only categorical column here. Adjust if needed.\n",
        "\n",
        "# Chia train/test theo tỉ lệ 80/20\n",
        "X_train, X_test, y_train, y_test = train_test_split(\n",
        "    X, y, test_size=0.2, random_state=42, stratify=y\n",
        ")\n",
        "\n",
        "print(\"Training size:\", X_train.shape, \" Testing size:\", X_test.shape)"
      ],
      "metadata": {
        "colab": {
          "base_uri": "https://localhost:8080/"
        },
        "id": "sgiS8RYXxyO_",
        "outputId": "1d3b224d-89c9-4d94-a2c9-f43d71fbb5a0"
      },
      "execution_count": null,
      "outputs": [
        {
          "output_type": "stream",
          "name": "stdout",
          "text": [
            "Training size: (320, 4)  Testing size: (80, 4)\n"
          ]
        }
      ]
    },
    {
      "cell_type": "markdown",
      "source": [
        "4. Đánh giá mô hình"
      ],
      "metadata": {
        "id": "vEAoB3Rqx2aw"
      }
    },
    {
      "cell_type": "code",
      "source": [
        "y_pred = clf.predict(X_test)\n",
        "\n",
        "print(\"\\nClassification Report:\\n\", classification_report(y_test, y_pred))\n",
        "\n",
        "cm = confusion_matrix(y_test, y_pred)\n",
        "plt.figure(figsize=(6,5))\n",
        "sns.heatmap(cm, annot=True, fmt='d', cmap='Blues',\n",
        "            xticklabels=['No Diabetes','Diabetes'],\n",
        "            yticklabels=['No Diabetes','Diabetes'])\n",
        "plt.xlabel(\"Predicted\")\n",
        "plt.ylabel(\"Actual\")\n",
        "plt.title(\"Confusion Matrix (Diabetes Prediction)\")\n",
        "plt.show()"
      ],
      "metadata": {
        "colab": {
          "base_uri": "https://localhost:8080/",
          "height": 678
        },
        "collapsed": true,
        "id": "lVwTPzJWx8Pv",
        "outputId": "5d35dce4-69f5-48a1-9173-db3c4f737797"
      },
      "execution_count": null,
      "outputs": [
        {
          "output_type": "stream",
          "name": "stdout",
          "text": [
            "\n",
            "Classification Report:\n",
            "               precision    recall  f1-score   support\n",
            "\n",
            "           0       0.97      1.00      0.98      5034\n",
            "           1       0.96      0.63      0.76       472\n",
            "\n",
            "    accuracy                           0.97      5506\n",
            "   macro avg       0.96      0.81      0.87      5506\n",
            "weighted avg       0.97      0.97      0.96      5506\n",
            "\n"
          ]
        },
        {
          "output_type": "display_data",
          "data": {
            "text/plain": [
              "<Figure size 600x500 with 2 Axes>"
            ],
            "image/png": "[encoded data removed]"
          },
          "metadata": {}
        }
      ]
    },
    {
      "cell_type": "markdown",
      "source": [
        "5. Tìm kernel tối ưu"
      ],
      "metadata": {
        "id": "14u0WEobx_6P"
      }
    },
    {
      "cell_type": "code",
      "source": [
        "kernels = ['linear', 'poly', 'rbf', 'sigmoid']\n",
        "best_svm = None\n",
        "best_acc = -1\n",
        "best_kernel = None\n",
        "\n",
        "for k in kernels:\n",
        "    model = svm.SVC(kernel=k, random_state=42)\n",
        "    model.fit(X_train, y_train)\n",
        "    acc = model.score(X_test, y_test)\n",
        "    print(f\"Kernel={k:7s} | Validation acc={acc:.4f}\")\n",
        "    if acc > best_acc:\n",
        "        best_acc = acc\n",
        "        best_svm = model\n",
        "        best_kernel = k\n",
        "\n",
        "print(\"\\nBest kernel:\", best_kernel, \"with Validation accuracy:\", best_acc)"
      ],
      "metadata": {
        "colab": {
          "base_uri": "https://localhost:8080/"
        },
        "id": "xd487UHCyCE1",
        "outputId": "7bc48251-bae8-4227-85d7-42e84b5ad5b0"
      },
      "execution_count": null,
      "outputs": [
        {
          "output_type": "stream",
          "name": "stdout",
          "text": [
            "Kernel=linear  | Validation acc=0.9648\n",
            "Kernel=poly    | Validation acc=0.9675\n",
            "Kernel=rbf     | Validation acc=0.9657\n",
            "Kernel=sigmoid | Validation acc=0.9148\n",
            "\n",
            "Best kernel: poly with Validation accuracy: 0.9674900108972031\n"
          ]
        }
      ]
    },
    {
      "cell_type": "markdown",
      "source": [
        "6. GridSearchCV tìm tham số tốt nhất\n"
      ],
      "metadata": {
        "id": "IwUahAxLyGlH"
      }
    },
    {
      "cell_type": "code",
      "source": [
        "from sklearn.model_selection import GridSearchCV\n",
        "from sklearn import svm\n",
        "\n",
        "# Chỉ chọn kernel cơ bản + ít giá trị C và gamma\n",
        "param_grid = {\n",
        "    'kernel': ['linear', 'rbf'],\n",
        "    'C': [0.1, 1, 10],\n",
        "    'gamma': ['scale', 'auto']\n",
        "}\n",
        "\n",
        "grid = GridSearchCV(\n",
        "    svm.SVC(),\n",
        "    param_grid,\n",
        "    cv=3,\n",
        "    n_jobs=-1,\n",
        "    verbose=1\n",
        ")\n",
        "\n",
        "grid.fit(X_train, y_train)\n",
        "\n",
        "print(\"Best parameters:\", grid.best_params_)\n",
        "print(\"Best cross-validation score:\", grid.best_score_)\n",
        "\n",
        "# Đánh giá trên tập test\n",
        "y_pred_grid = grid.predict(X_test)\n",
        "print(classification_report(y_test, y_pred_grid))\n"
      ],
      "metadata": {
        "colab": {
          "base_uri": "https://localhost:8080/"
        },
        "id": "MTCKc6xXyLTO",
        "outputId": "199c7f01-5c74-4abe-959b-add283190026"
      },
      "execution_count": null,
      "outputs": [
        {
          "output_type": "stream",
          "name": "stdout",
          "text": [
            "Fitting 3 folds for each of 12 candidates, totalling 36 fits\n",
            "Best parameters: {'C': 10, 'gamma': 'scale', 'kernel': 'rbf'}\n",
            "Best cross-validation score: 0.9634003267082308\n",
            "              precision    recall  f1-score   support\n",
            "\n",
            "           0       0.97      1.00      0.98      5034\n",
            "           1       0.94      0.65      0.77       472\n",
            "\n",
            "    accuracy                           0.97      5506\n",
            "   macro avg       0.96      0.82      0.87      5506\n",
            "weighted avg       0.97      0.97      0.96      5506\n",
            "\n"
          ]
        }
      ]
    },
    {
      "cell_type": "markdown",
      "source": [
        "**2.2.4. Bài tập thực hành 2**\n",
        "\n",
        "Xây dựng mô hình từ giải thuật SVM trên dữ liệu các con thú trong rừng. Dữ liệu lấy từ\n",
        "https://www.kaggle.com/code/kareemellithy/animal-condition-predict-svm-knn"
      ],
      "metadata": {
        "id": "r11WSqP4R5KK"
      }
    },
    {
      "cell_type": "markdown",
      "source": [
        "1. Import thư viện"
      ],
      "metadata": {
        "id": "-bMArOBpSEPq"
      }
    },
    {
      "cell_type": "code",
      "source": [
        "# 1. Import thư viện\n",
        "# ======================\n",
        "import pandas as pd\n",
        "import numpy as np\n",
        "import matplotlib.pyplot as plt\n",
        "import seaborn as sns\n",
        "\n",
        "from sklearn.model_selection import train_test_split, GridSearchCV\n",
        "from sklearn import svm\n",
        "from sklearn.metrics import accuracy_score, confusion_matrix, classification_report"
      ],
      "metadata": {
        "id": "LGw3KNS-SNWE"
      },
      "execution_count": null,
      "outputs": []
    },
    {
      "cell_type": "markdown",
      "source": [
        "1. Import dữ liệu"
      ],
      "metadata": {
        "id": "aKU5wD-TSmbv"
      }
    },
    {
      "cell_type": "code",
      "source": [
        "df = pd.read_csv(\"data.csv\")\n",
        "\n",
        "print(\"Kích thước dữ liệu:\", df.shape)\n",
        "print(df.head())\n",
        "print(df.info())\n",
        "print(df.describe())"
      ],
      "metadata": {
        "colab": {
          "base_uri": "https://localhost:8080/"
        },
        "id": "nSdEeWRGSqbx",
        "outputId": "b763a301-6016-4496-ff8e-aa62e7dc5ed4"
      },
      "execution_count": null,
      "outputs": [
        {
          "output_type": "stream",
          "name": "stdout",
          "text": [
            "Kích thước dữ liệu: (871, 7)\n",
            "  AnimalName symptoms1             symptoms2 symptoms3    symptoms4  \\\n",
            "0        Dog     Fever              Diarrhea  Vomiting  Weight loss   \n",
            "1        Dog     Fever              Diarrhea  Coughing    Tiredness   \n",
            "2        Dog     Fever              Diarrhea  Coughing     Vomiting   \n",
            "3        Dog     Fever  Difficulty breathing  Coughing     Lethargy   \n",
            "4        Dog     Fever              Diarrhea  Coughing     Lethargy   \n",
            "\n",
            "     symptoms5 Dangerous  \n",
            "0  Dehydration       Yes  \n",
            "1        Pains       Yes  \n",
            "2     Anorexia       Yes  \n",
            "3     Sneezing       Yes  \n",
            "4     Blue Eye       Yes  \n",
            "<class 'pandas.core.frame.DataFrame'>\n",
            "RangeIndex: 871 entries, 0 to 870\n",
            "Data columns (total 7 columns):\n",
            " #   Column      Non-Null Count  Dtype \n",
            "---  ------      --------------  ----- \n",
            " 0   AnimalName  871 non-null    object\n",
            " 1   symptoms1   871 non-null    object\n",
            " 2   symptoms2   871 non-null    object\n",
            " 3   symptoms3   871 non-null    object\n",
            " 4   symptoms4   871 non-null    object\n",
            " 5   symptoms5   871 non-null    object\n",
            " 6   Dangerous   869 non-null    object\n",
            "dtypes: object(7)\n",
            "memory usage: 47.8+ KB\n",
            "None\n",
            "       AnimalName symptoms1 symptoms2 symptoms3    symptoms4 symptoms5  \\\n",
            "count         871       871       871       871          871       871   \n",
            "unique         46       232       230       229          217       203   \n",
            "top     Buffaloes     Fever  Diarrhea  Coughing  Weight loss     Pains   \n",
            "freq          129       257       119        95          117        99   \n",
            "\n",
            "       Dangerous  \n",
            "count        869  \n",
            "unique         2  \n",
            "top          Yes  \n",
            "freq         849  \n"
          ]
        }
      ]
    },
    {
      "cell_type": "markdown",
      "source": [
        "3. Tách feature và target\n",
        "\n"
      ],
      "metadata": {
        "id": "tDZn40SPSvL7"
      }
    },
    {
      "cell_type": "code",
      "source": [
        "# Ở dataset này cột \"Dangerous\" là nhãn (tình trạng động vật)\n",
        "# Handle missing values in the target variable\n",
        "df.dropna(subset=['Dangerous'], inplace=True)\n",
        "\n",
        "X = df.drop(\"Dangerous\", axis=1)\n",
        "y = df[\"Dangerous\"]\n",
        "\n",
        "# One-hot encode categorical features\n",
        "X = pd.get_dummies(X, columns=['AnimalName', 'symptoms1', 'symptoms2', 'symptoms3', 'symptoms4', 'symptoms5'], drop_first=True)\n",
        "\n",
        "\n",
        "# Chia dữ liệu train/test 80:20\n",
        "X_train, X_test, y_train, y_test = train_test_split(\n",
        "    X, y, test_size=0.2, random_state=42, stratify=y\n",
        ")\n",
        "\n",
        "print(\"Train set:\", X_train.shape, \" Test set:\", X_test.shape)"
      ],
      "metadata": {
        "colab": {
          "base_uri": "https://localhost:8080/"
        },
        "id": "k-AwOMH0TRDA",
        "outputId": "bd1026c5-3d57-4a6d-fe41-f1e1c0cf10b6"
      },
      "execution_count": null,
      "outputs": [
        {
          "output_type": "stream",
          "name": "stdout",
          "text": [
            "Train set: (695, 1147)  Test set: (174, 1147)\n"
          ]
        }
      ]
    },
    {
      "cell_type": "markdown",
      "source": [
        "4. Mô hình SVM cơ bản"
      ],
      "metadata": {
        "id": "onQ4dqFGTR_4"
      }
    },
    {
      "cell_type": "code",
      "source": [
        "clf = svm.SVC(kernel=\"linear\", probability=True)\n",
        "clf.fit(X_train, y_train)\n",
        "\n",
        "train_acc = clf.score(X_train, y_train)\n",
        "test_acc = clf.score(X_test, y_test)\n",
        "\n",
        "print(\"Training accuracy:\", train_acc)\n",
        "print(\"Validation accuracy:\", test_acc)"
      ],
      "metadata": {
        "colab": {
          "base_uri": "https://localhost:8080/"
        },
        "id": "3iqf5wPZTV5e",
        "outputId": "da69cf38-3826-4dd8-96c1-4d0ea806e237"
      },
      "execution_count": null,
      "outputs": [
        {
          "output_type": "stream",
          "name": "stdout",
          "text": [
            "Training accuracy: 1.0\n",
            "Validation accuracy: 1.0\n"
          ]
        }
      ]
    },
    {
      "cell_type": "markdown",
      "source": [
        "5. Đánh giá mô hình"
      ],
      "metadata": {
        "id": "PbhgCHfXWMqI"
      }
    },
    {
      "cell_type": "code",
      "source": [
        "y_pred = clf.predict(X_test)\n",
        "print(\"\\nConfusion Matrix:\")\n",
        "print(confusion_matrix(y_test, y_pred))\n",
        "print(\"\\nClassification Report:\")\n",
        "print(classification_report(y_test, y_pred))"
      ],
      "metadata": {
        "colab": {
          "base_uri": "https://localhost:8080/"
        },
        "id": "MEwfv9HbWP4N",
        "outputId": "7d48abe1-bb2d-4e4f-f476-e30c5a95acc2"
      },
      "execution_count": null,
      "outputs": [
        {
          "output_type": "stream",
          "name": "stdout",
          "text": [
            "\n",
            "Confusion Matrix:\n",
            "[[  4   0]\n",
            " [  0 170]]\n",
            "\n",
            "Classification Report:\n",
            "              precision    recall  f1-score   support\n",
            "\n",
            "          No       1.00      1.00      1.00         4\n",
            "         Yes       1.00      1.00      1.00       170\n",
            "\n",
            "    accuracy                           1.00       174\n",
            "   macro avg       1.00      1.00      1.00       174\n",
            "weighted avg       1.00      1.00      1.00       174\n",
            "\n"
          ]
        }
      ]
    },
    {
      "cell_type": "markdown",
      "source": [
        "6. GridSearchCV tìm kernel & tham số tốt nhất"
      ],
      "metadata": {
        "id": "ZdG1Ij6pWQZO"
      }
    },
    {
      "cell_type": "code",
      "source": [
        "params = {\n",
        "    \"C\": [0.1, 1, 10],\n",
        "    \"kernel\": [\"linear\", \"rbf\", \"poly\", \"sigmoid\"],\n",
        "    \"gamma\": [\"scale\", \"auto\"]\n",
        "}\n",
        "grid = GridSearchCV(\n",
        "    svm.SVC(probability=True),\n",
        "    param_grid=params,\n",
        "    scoring=\"accuracy\",\n",
        "    cv=4,\n",
        "    verbose=1,\n",
        "    n_jobs=-1\n",
        ")\n",
        "grid.fit(X_train, y_train)\n",
        "\n",
        "print(\"Best Parameters:\", grid.best_params_)\n",
        "print(\"Best CV Accuracy:\", grid.best_score_)\n",
        "\n",
        "best_svm = grid.best_estimator_\n",
        "final_acc = best_svm.score(X_test, y_test)\n",
        "print(\"Test Accuracy with Best Params:\", final_acc)"
      ],
      "metadata": {
        "colab": {
          "base_uri": "https://localhost:8080/"
        },
        "id": "da6gC7bDWT92",
        "outputId": "8dae8913-cd17-4712-f1e7-f87f9bc6210c"
      },
      "execution_count": null,
      "outputs": [
        {
          "output_type": "stream",
          "name": "stdout",
          "text": [
            "Fitting 4 folds for each of 24 candidates, totalling 96 fits\n",
            "Best Parameters: {'C': 1, 'gamma': 'scale', 'kernel': 'linear'}\n",
            "Best CV Accuracy: 0.9870440502292207\n",
            "Test Accuracy with Best Params: 1.0\n"
          ]
        }
      ]
    },
    {
      "cell_type": "markdown",
      "source": [
        "7. Ma trận nhầm lẫn với mô hình tối ưu"
      ],
      "metadata": {
        "id": "NKXPcnwTWWkV"
      }
    },
    {
      "cell_type": "code",
      "source": [
        "y_pred_best = best_svm.predict(X_test)\n",
        "cm = confusion_matrix(y_test, y_pred_best)\n",
        "plt.figure(figsize=(6,5))\n",
        "sns.heatmap(cm, annot=True, fmt=\"d\", cmap=\"Blues\")\n",
        "plt.title(\"Confusion Matrix - Best SVM\", fontsize=16)\n",
        "plt.xlabel(\"Predicted\")\n",
        "plt.ylabel(\"Actual\")\n",
        "plt.show()"
      ],
      "metadata": {
        "colab": {
          "base_uri": "https://localhost:8080/",
          "height": 489
        },
        "id": "rBIrYlqEWZZw",
        "outputId": "b4e9479e-26ce-4f0c-f51c-2bf5218c7924"
      },
      "execution_count": null,
      "outputs": [
        {
          "output_type": "display_data",
          "data": {
            "text/plain": [
              "<Figure size 600x500 with 2 Axes>"
            ],
            "image/png": "[encoded data removed]"
          },
          "metadata": {}
        }
      ]
    },
    {
      "cell_type": "markdown",
      "source": [
        "**2.3.3. Bài tập thực hành 1**\n",
        "\n",
        "Xây dựng mô hình Naïve ngây thơ trên tập dữ liệu hành vi của khách hàng lấy tại https://www.kaggle.com/code/arezalo/customer-behaviour-prediction-naive-bayes\n"
      ],
      "metadata": {
        "id": "D3T_5gD-lSf9"
      }
    },
    {
      "cell_type": "markdown",
      "source": [
        "Nhiệm vụ 1: Phân loại sử dụng Naive Bayes"
      ],
      "metadata": {
        "id": "AhNow-IblYP6"
      }
    },
    {
      "cell_type": "markdown",
      "source": [
        "1. Import thư viện và nạp dữ liệu"
      ],
      "metadata": {
        "id": "IaEQu2mXlfsx"
      }
    },
    {
      "cell_type": "code",
      "source": [
        "import numpy as np\n",
        "import pandas as pd\n",
        "from sklearn.model_selection import train_test_split\n",
        "from sklearn.naive_bayes import GaussianNB\n",
        "from sklearn.metrics import accuracy_score, confusion_matrix, classification_report\n",
        "\n",
        "# Đọc dữ liệu\n",
        "data = pd.read_csv(\"Customer_Behaviour.csv\")\n",
        "\n",
        "print(\"Kích thước dữ liệu:\", data.shape)\n",
        "print(\"\\nThông tin dữ liệu:\")\n",
        "print(data.info())\n",
        "print(\"\\n5 dòng đầu:\")\n",
        "print(data.head())\n"
      ],
      "metadata": {
        "colab": {
          "base_uri": "https://localhost:8080/"
        },
        "id": "aDj_AKiVlaOg",
        "outputId": "c52d803a-f33e-401a-9689-4f685a445f6a"
      },
      "execution_count": null,
      "outputs": [
        {
          "output_type": "stream",
          "name": "stdout",
          "text": [
            "Kích thước dữ liệu: (400, 5)\n",
            "\n",
            "Thông tin dữ liệu:\n",
            "<class 'pandas.core.frame.DataFrame'>\n",
            "RangeIndex: 400 entries, 0 to 399\n",
            "Data columns (total 5 columns):\n",
            " #   Column           Non-Null Count  Dtype \n",
            "---  ------           --------------  ----- \n",
            " 0   User ID          400 non-null    int64 \n",
            " 1   Gender           400 non-null    object\n",
            " 2   Age              400 non-null    int64 \n",
            " 3   EstimatedSalary  400 non-null    int64 \n",
            " 4   Purchased        400 non-null    int64 \n",
            "dtypes: int64(4), object(1)\n",
            "memory usage: 15.8+ KB\n",
            "None\n",
            "\n",
            "5 dòng đầu:\n",
            "    User ID  Gender  Age  EstimatedSalary  Purchased\n",
            "0  15624510    Male   19            19000          0\n",
            "1  15810944    Male   35            20000          0\n",
            "2  15668575  Female   26            43000          0\n",
            "3  15603246  Female   27            57000          0\n",
            "4  15804002    Male   19            76000          0\n"
          ]
        }
      ]
    },
    {
      "cell_type": "markdown",
      "source": [
        "2. Xử lý dữ liệu trước khi xây dựng mô hình"
      ],
      "metadata": {
        "id": "7v3s5OVYlhZO"
      }
    },
    {
      "cell_type": "code",
      "source": [
        "# Giả sử cột mục tiêu là 'Purchased'\n",
        "X = data.drop('Purchased', axis=1)   # bỏ cột nhãn\n",
        "y = data['Purchased']\n",
        "\n",
        "# Chia train/test theo tỉ lệ 80/20\n",
        "X_train, X_test, y_train, y_test = train_test_split(\n",
        "    X, y, test_size=0.2, random_state=42, stratify=y\n",
        ")\n",
        "\n",
        "print(\"Training size:\", X_train.shape, \" Testing size:\", X_test.shape)\n"
      ],
      "metadata": {
        "colab": {
          "base_uri": "https://localhost:8080/"
        },
        "id": "eDtn_EbmlwBG",
        "outputId": "ca0e004c-b866-446c-d650-e558a236ac42"
      },
      "execution_count": null,
      "outputs": [
        {
          "output_type": "stream",
          "name": "stdout",
          "text": [
            "Training size: (320, 4)  Testing size: (80, 4)\n"
          ]
        }
      ]
    },
    {
      "cell_type": "markdown",
      "source": [
        "3. Xây dựng mô hình Naïve Bayes (sử dụng GaussianNB cho dữ liệu số)"
      ],
      "metadata": {
        "id": "LJV1Xm3Dlnxi"
      }
    },
    {
      "cell_type": "code",
      "source": [
        "from sklearn.preprocessing import StandardScaler\n",
        "\n",
        "scaler = StandardScaler()\n",
        "\n",
        "# Fit và transform dữ liệu train\n",
        "X_train_scaled = scaler.fit_transform(X_train)\n",
        "\n",
        "# Transform dữ liệu test\n",
        "X_test_scaled = scaler.transform(X_test)\n",
        "\n",
        "# Huấn luyện mô hình Naïve Bayes (sử dụng GaussianNB cho dữ liệu số)\n",
        "nb = GaussianNB()\n",
        "nb.fit(X_train_scaled, y_train)\n",
        "\n",
        "print(\"\\nĐộ chính xác trên tập train:\", nb.score(X_train_scaled, y_train))\n",
        "print(\"Độ chính xác trên tập test:\", nb.score(X_test_scaled, y_test))"
      ],
      "metadata": {
        "colab": {
          "base_uri": "https://localhost:8080/"
        },
        "id": "Vti60wkxl6vi",
        "outputId": "6d61038c-d6cf-4883-c04c-2744bb7a21fe"
      },
      "execution_count": null,
      "outputs": [
        {
          "output_type": "stream",
          "name": "stdout",
          "text": [
            "\n",
            "Độ chính xác trên tập train: 0.9\n",
            "Độ chính xác trên tập test: 0.875\n"
          ]
        }
      ]
    },
    {
      "cell_type": "markdown",
      "source": [
        "4. Dự đoán và đánh giá mô hình"
      ],
      "metadata": {
        "id": "kt1zUQb2lp-E"
      }
    },
    {
      "cell_type": "code",
      "source": [
        "y_pred = nb.predict(X_test)\n",
        "\n",
        "# Độ chính xác\n",
        "accuracy = accuracy_score(y_test, y_pred)\n",
        "print(f\"Accuracy: {accuracy:.2f}\")\n",
        "\n",
        "# Ma trận nhầm lẫn\n",
        "conf_matrix = confusion_matrix(y_test, y_pred)\n",
        "print(\"\\nConfusion Matrix:\\n\", conf_matrix)\n",
        "\n",
        "# Báo cáo phân loại chi tiết\n",
        "classification_rep = classification_report(y_test, y_pred)\n",
        "print(\"\\nClassification Report:\\n\", classification_rep)\n"
      ],
      "metadata": {
        "colab": {
          "base_uri": "https://localhost:8080/"
        },
        "id": "LKtkZ8HQl72S",
        "outputId": "def29ab1-e80f-4a78-bfe1-f2a356e0c197"
      },
      "execution_count": null,
      "outputs": [
        {
          "output_type": "stream",
          "name": "stdout",
          "text": [
            "Accuracy: 0.64\n",
            "\n",
            "Confusion Matrix:\n",
            " [[51  0]\n",
            " [29  0]]\n",
            "\n",
            "Classification Report:\n",
            "               precision    recall  f1-score   support\n",
            "\n",
            "           0       0.64      1.00      0.78        51\n",
            "           1       0.00      0.00      0.00        29\n",
            "\n",
            "    accuracy                           0.64        80\n",
            "   macro avg       0.32      0.50      0.39        80\n",
            "weighted avg       0.41      0.64      0.50        80\n",
            "\n"
          ]
        },
        {
          "output_type": "stream",
          "name": "stderr",
          "text": [
            "/usr/local/lib/python3.12/dist-packages/sklearn/utils/validation.py:2732: UserWarning: X has feature names, but GaussianNB was fitted without feature names\n",
            "  warnings.warn(\n",
            "/usr/local/lib/python3.12/dist-packages/sklearn/metrics/_classification.py:1565: UndefinedMetricWarning: Precision is ill-defined and being set to 0.0 in labels with no predicted samples. Use `zero_division` parameter to control this behavior.\n",
            "  _warn_prf(average, modifier, f\"{metric.capitalize()} is\", len(result))\n",
            "/usr/local/lib/python3.12/dist-packages/sklearn/metrics/_classification.py:1565: UndefinedMetricWarning: Precision is ill-defined and being set to 0.0 in labels with no predicted samples. Use `zero_division` parameter to control this behavior.\n",
            "  _warn_prf(average, modifier, f\"{metric.capitalize()} is\", len(result))\n",
            "/usr/local/lib/python3.12/dist-packages/sklearn/metrics/_classification.py:1565: UndefinedMetricWarning: Precision is ill-defined and being set to 0.0 in labels with no predicted samples. Use `zero_division` parameter to control this behavior.\n",
            "  _warn_prf(average, modifier, f\"{metric.capitalize()} is\", len(result))\n"
          ]
        }
      ]
    },
    {
      "cell_type": "markdown",
      "source": [
        "5. Trực quan hóa ma trận Confusion Matrix - Naive Bayes\n",
        "\n",
        "\n"
      ],
      "metadata": {
        "id": "zRgDnrDWlrnL"
      }
    },
    {
      "cell_type": "code",
      "source": [
        "import seaborn as sns\n",
        "import matplotlib.pyplot as plt\n",
        "\n",
        "plt.figure(figsize=(6,4))\n",
        "sns.heatmap(conf_matrix, annot=True, fmt=\"d\", cmap=\"Blues\",\n",
        "            xticklabels=[\"Not Purchased\", \"Purchased\"],\n",
        "            yticklabels=[\"Not Purchased\", \"Purchased\"])\n",
        "plt.title(\"Confusion Matrix - Naive Bayes\", fontsize=16)\n",
        "plt.xlabel(\"Predicted\")\n",
        "plt.ylabel(\"Actual\")\n",
        "plt.show()\n"
      ],
      "metadata": {
        "colab": {
          "base_uri": "https://localhost:8080/",
          "height": 412
        },
        "id": "3BQzqs4Tl-gL",
        "outputId": "b99a5fbb-7fb0-47a9-edea-924a95456b03"
      },
      "execution_count": null,
      "outputs": [
        {
          "output_type": "display_data",
          "data": {
            "text/plain": [
              "<Figure size 600x400 with 2 Axes>"
            ],
            "image/png": "[encoded data removed]"
          },
          "metadata": {}
        }
      ]
    },
    {
      "cell_type": "markdown",
      "source": [
        "**2.3.4. Bài tập thực hành 2**\n",
        "\n",
        "Xây dựng mô hình Naïve ngây thơ trên tập dữ liệu mushroom. Dữ liệu lấy tại https://www.kaggle.com/datasets/uciml/mushroom-classification/data"
      ],
      "metadata": {
        "id": "0Z629Y0cpV-o"
      }
    },
    {
      "cell_type": "markdown",
      "source": [
        "1. Import thư viện"
      ],
      "metadata": {
        "id": "joMdIZeTvFfm"
      }
    },
    {
      "cell_type": "code",
      "source": [
        "import numpy as np\n",
        "import pandas as pd\n",
        "from sklearn.model_selection import train_test_split\n",
        "from sklearn.preprocessing import LabelEncoder\n",
        "from sklearn.naive_bayes import MultinomialNB\n",
        "from sklearn.metrics import accuracy_score, confusion_matrix, classification_report"
      ],
      "metadata": {
        "id": "BXGtudNJvK86"
      },
      "execution_count": null,
      "outputs": []
    },
    {
      "cell_type": "markdown",
      "source": [
        "2. Nạp dữ liệu"
      ],
      "metadata": {
        "id": "xQr2eAimvfsn"
      }
    },
    {
      "cell_type": "code",
      "source": [
        "df = pd.read_csv(\"mushrooms.csv\")\n",
        "print(\"Kích thước dữ liệu:\", df.shape)\n",
        "print(df.head())"
      ],
      "metadata": {
        "colab": {
          "base_uri": "https://localhost:8080/"
        },
        "id": "RU7NCPktvcKo",
        "outputId": "6b600c26-a048-4e7e-e192-669aaacb7ce8"
      },
      "execution_count": null,
      "outputs": [
        {
          "output_type": "stream",
          "name": "stdout",
          "text": [
            "Kích thước dữ liệu: (8124, 23)\n",
            "  class cap-shape cap-surface cap-color bruises odor gill-attachment  \\\n",
            "0     p         x           s         n       t    p               f   \n",
            "1     e         x           s         y       t    a               f   \n",
            "2     e         b           s         w       t    l               f   \n",
            "3     p         x           y         w       t    p               f   \n",
            "4     e         x           s         g       f    n               f   \n",
            "\n",
            "  gill-spacing gill-size gill-color  ... stalk-surface-below-ring  \\\n",
            "0            c         n          k  ...                        s   \n",
            "1            c         b          k  ...                        s   \n",
            "2            c         b          n  ...                        s   \n",
            "3            c         n          n  ...                        s   \n",
            "4            w         b          k  ...                        s   \n",
            "\n",
            "  stalk-color-above-ring stalk-color-below-ring veil-type veil-color  \\\n",
            "0                      w                      w         p          w   \n",
            "1                      w                      w         p          w   \n",
            "2                      w                      w         p          w   \n",
            "3                      w                      w         p          w   \n",
            "4                      w                      w         p          w   \n",
            "\n",
            "  ring-number ring-type spore-print-color population habitat  \n",
            "0           o         p                 k          s       u  \n",
            "1           o         p                 n          n       g  \n",
            "2           o         p                 n          n       m  \n",
            "3           o         p                 k          s       u  \n",
            "4           o         e                 n          a       g  \n",
            "\n",
            "[5 rows x 23 columns]\n"
          ]
        }
      ]
    },
    {
      "cell_type": "markdown",
      "source": [
        "3. Tiền xử lý dữ liệu"
      ],
      "metadata": {
        "id": "TN7QrhwbvjvA"
      }
    },
    {
      "cell_type": "code",
      "source": [
        "# Label Encoding cho từng cột\n",
        "le = LabelEncoder()\n",
        "for col in df.columns:\n",
        "    df[col] = le.fit_transform(df[col])\n",
        "\n",
        "# Xác định X và y\n",
        "X = df.drop(\"class\", axis=1)\n",
        "y = df[\"class\"]\n",
        "\n",
        "# Chia dữ liệu train/test 80/20\n",
        "X_train, X_test, y_train, y_test = train_test_split(X, y, test_size=0.2, random_state=42)"
      ],
      "metadata": {
        "id": "DBfZKftpvqqm"
      },
      "execution_count": null,
      "outputs": []
    },
    {
      "cell_type": "markdown",
      "source": [
        "4. Xây dựng mô hình Naïve Bayes"
      ],
      "metadata": {
        "id": "uDHdLkXhwAPB"
      }
    },
    {
      "cell_type": "code",
      "source": [
        "model = MultinomialNB()\n",
        "model.fit(X_train, y_train)"
      ],
      "metadata": {
        "colab": {
          "base_uri": "https://localhost:8080/",
          "height": 81
        },
        "id": "7mrTqqjjwCBr",
        "outputId": "5a597087-6439-448c-ebd0-859d3f669570"
      },
      "execution_count": null,
      "outputs": [
        {
          "output_type": "execute_result",
          "data": {
            "text/plain": [
              "MultinomialNB()"
            ],
            "text/html": [
              "<style>#sk-container-id-1 {\n",
              "  /* Definition of color scheme common for light and dark mode */\n",
              "  --sklearn-color-text: #000;\n",
              "  --sklearn-color-text-muted: #666;\n",
              "  --sklearn-color-line: gray;\n",
              "  /* Definition of color scheme for unfitted estimators */\n",
              "  --sklearn-color-unfitted-level-0: #fff5e6;\n",
              "  --sklearn-color-unfitted-level-1: #f6e4d2;\n",
              "  --sklearn-color-unfitted-level-2: #ffe0b3;\n",
              "  --sklearn-color-unfitted-level-3: chocolate;\n",
              "  /* Definition of color scheme for fitted estimators */\n",
              "  --sklearn-color-fitted-level-0: #f0f8ff;\n",
              "  --sklearn-color-fitted-level-1: #d4ebff;\n",
              "  --sklearn-color-fitted-level-2: #b3dbfd;\n",
              "  --sklearn-color-fitted-level-3: cornflowerblue;\n",
              "\n",
              "  /* Specific color for light theme */\n",
              "  --sklearn-color-text-on-default-background: var(--sg-text-color, var(--theme-code-foreground, var(--jp-content-font-color1, black)));\n",
              "  --sklearn-color-background: var(--sg-background-color, var(--theme-background, var(--jp-layout-color0, white)));\n",
              "  --sklearn-color-border-box: var(--sg-text-color, var(--theme-code-foreground, var(--jp-content-font-color1, black)));\n",
              "  --sklearn-color-icon: #696969;\n",
              "\n",
              "  @media (prefers-color-scheme: dark) {\n",
              "    /* Redefinition of color scheme for dark theme */\n",
              "    --sklearn-color-text-on-default-background: var(--sg-text-color, var(--theme-code-foreground, var(--jp-content-font-color1, white)));\n",
              "    --sklearn-color-background: var(--sg-background-color, var(--theme-background, var(--jp-layout-color0, #111)));\n",
              "    --sklearn-color-border-box: var(--sg-text-color, var(--theme-code-foreground, var(--jp-content-font-color1, white)));\n",
              "    --sklearn-color-icon: #878787;\n",
              "  }\n",
              "}\n",
              "\n",
              "#sk-container-id-1 {\n",
              "  color: var(--sklearn-color-text);\n",
              "}\n",
              "\n",
              "#sk-container-id-1 pre {\n",
              "  padding: 0;\n",
              "}\n",
              "\n",
              "#sk-container-id-1 input.sk-hidden--visually {\n",
              "  border: 0;\n",
              "  clip: rect(1px 1px 1px 1px);\n",
              "  clip: rect(1px, 1px, 1px, 1px);\n",
              "  height: 1px;\n",
              "  margin: -1px;\n",
              "  overflow: hidden;\n",
              "  padding: 0;\n",
              "  position: absolute;\n",
              "  width: 1px;\n",
              "}\n",
              "\n",
              "#sk-container-id-1 div.sk-dashed-wrapped {\n",
              "  border: 1px dashed var(--sklearn-color-line);\n",
              "  margin: 0 0.4em 0.5em 0.4em;\n",
              "  box-sizing: border-box;\n",
              "  padding-bottom: 0.4em;\n",
              "  background-color: var(--sklearn-color-background);\n",
              "}\n",
              "\n",
              "#sk-container-id-1 div.sk-container {\n",
              "  /* jupyter's `normalize.less` sets `[hidden] { display: none; }`\n",
              "     but bootstrap.min.css set `[hidden] { display: none !important; }`\n",
              "     so we also need the `!important` here to be able to override the\n",
              "     default hidden behavior on the sphinx rendered scikit-learn.org.\n",
              "     See: https://github.com/scikit-learn/scikit-learn/issues/21755 */\n",
              "  display: inline-block !important;\n",
              "  position: relative;\n",
              "}\n",
              "\n",
              "#sk-container-id-1 div.sk-text-repr-fallback {\n",
              "  display: none;\n",
              "}\n",
              "\n",
              "div.sk-parallel-item,\n",
              "div.sk-serial,\n",
              "div.sk-item {\n",
              "  /* draw centered vertical line to link estimators */\n",
              "  background-image: linear-gradient(var(--sklearn-color-text-on-default-background), var(--sklearn-color-text-on-default-background));\n",
              "  background-size: 2px 100%;\n",
              "  background-repeat: no-repeat;\n",
              "  background-position: center center;\n",
              "}\n",
              "\n",
              "/* Parallel-specific style estimator block */\n",
              "\n",
              "#sk-container-id-1 div.sk-parallel-item::after {\n",
              "  content: \"\";\n",
              "  width: 100%;\n",
              "  border-bottom: 2px solid var(--sklearn-color-text-on-default-background);\n",
              "  flex-grow: 1;\n",
              "}\n",
              "\n",
              "#sk-container-id-1 div.sk-parallel {\n",
              "  display: flex;\n",
              "  align-items: stretch;\n",
              "  justify-content: center;\n",
              "  background-color: var(--sklearn-color-background);\n",
              "  position: relative;\n",
              "}\n",
              "\n",
              "#sk-container-id-1 div.sk-parallel-item {\n",
              "  display: flex;\n",
              "  flex-direction: column;\n",
              "}\n",
              "\n",
              "#sk-container-id-1 div.sk-parallel-item:first-child::after {\n",
              "  align-self: flex-end;\n",
              "  width: 50%;\n",
              "}\n",
              "\n",
              "#sk-container-id-1 div.sk-parallel-item:last-child::after {\n",
              "  align-self: flex-start;\n",
              "  width: 50%;\n",
              "}\n",
              "\n",
              "#sk-container-id-1 div.sk-parallel-item:only-child::after {\n",
              "  width: 0;\n",
              "}\n",
              "\n",
              "/* Serial-specific style estimator block */\n",
              "\n",
              "#sk-container-id-1 div.sk-serial {\n",
              "  display: flex;\n",
              "  flex-direction: column;\n",
              "  align-items: center;\n",
              "  background-color: var(--sklearn-color-background);\n",
              "  padding-right: 1em;\n",
              "  padding-left: 1em;\n",
              "}\n",
              "\n",
              "\n",
              "/* Toggleable style: style used for estimator/Pipeline/ColumnTransformer box that is\n",
              "clickable and can be expanded/collapsed.\n",
              "- Pipeline and ColumnTransformer use this feature and define the default style\n",
              "- Estimators will overwrite some part of the style using the `sk-estimator` class\n",
              "*/\n",
              "\n",
              "/* Pipeline and ColumnTransformer style (default) */\n",
              "\n",
              "#sk-container-id-1 div.sk-toggleable {\n",
              "  /* Default theme specific background. It is overwritten whether we have a\n",
              "  specific estimator or a Pipeline/ColumnTransformer */\n",
              "  background-color: var(--sklearn-color-background);\n",
              "}\n",
              "\n",
              "/* Toggleable label */\n",
              "#sk-container-id-1 label.sk-toggleable__label {\n",
              "  cursor: pointer;\n",
              "  display: flex;\n",
              "  width: 100%;\n",
              "  margin-bottom: 0;\n",
              "  padding: 0.5em;\n",
              "  box-sizing: border-box;\n",
              "  text-align: center;\n",
              "  align-items: start;\n",
              "  justify-content: space-between;\n",
              "  gap: 0.5em;\n",
              "}\n",
              "\n",
              "#sk-container-id-1 label.sk-toggleable__label .caption {\n",
              "  font-size: 0.6rem;\n",
              "  font-weight: lighter;\n",
              "  color: var(--sklearn-color-text-muted);\n",
              "}\n",
              "\n",
              "#sk-container-id-1 label.sk-toggleable__label-arrow:before {\n",
              "  /* Arrow on the left of the label */\n",
              "  content: \"▸\";\n",
              "  float: left;\n",
              "  margin-right: 0.25em;\n",
              "  color: var(--sklearn-color-icon);\n",
              "}\n",
              "\n",
              "#sk-container-id-1 label.sk-toggleable__label-arrow:hover:before {\n",
              "  color: var(--sklearn-color-text);\n",
              "}\n",
              "\n",
              "/* Toggleable content - dropdown */\n",
              "\n",
              "#sk-container-id-1 div.sk-toggleable__content {\n",
              "  max-height: 0;\n",
              "  max-width: 0;\n",
              "  overflow: hidden;\n",
              "  text-align: left;\n",
              "  /* unfitted */\n",
              "  background-color: var(--sklearn-color-unfitted-level-0);\n",
              "}\n",
              "\n",
              "#sk-container-id-1 div.sk-toggleable__content.fitted {\n",
              "  /* fitted */\n",
              "  background-color: var(--sklearn-color-fitted-level-0);\n",
              "}\n",
              "\n",
              "#sk-container-id-1 div.sk-toggleable__content pre {\n",
              "  margin: 0.2em;\n",
              "  border-radius: 0.25em;\n",
              "  color: var(--sklearn-color-text);\n",
              "  /* unfitted */\n",
              "  background-color: var(--sklearn-color-unfitted-level-0);\n",
              "}\n",
              "\n",
              "#sk-container-id-1 div.sk-toggleable__content.fitted pre {\n",
              "  /* unfitted */\n",
              "  background-color: var(--sklearn-color-fitted-level-0);\n",
              "}\n",
              "\n",
              "#sk-container-id-1 input.sk-toggleable__control:checked~div.sk-toggleable__content {\n",
              "  /* Expand drop-down */\n",
              "  max-height: 200px;\n",
              "  max-width: 100%;\n",
              "  overflow: auto;\n",
              "}\n",
              "\n",
              "#sk-container-id-1 input.sk-toggleable__control:checked~label.sk-toggleable__label-arrow:before {\n",
              "  content: \"▾\";\n",
              "}\n",
              "\n",
              "/* Pipeline/ColumnTransformer-specific style */\n",
              "\n",
              "#sk-container-id-1 div.sk-label input.sk-toggleable__control:checked~label.sk-toggleable__label {\n",
              "  color: var(--sklearn-color-text);\n",
              "  background-color: var(--sklearn-color-unfitted-level-2);\n",
              "}\n",
              "\n",
              "#sk-container-id-1 div.sk-label.fitted input.sk-toggleable__control:checked~label.sk-toggleable__label {\n",
              "  background-color: var(--sklearn-color-fitted-level-2);\n",
              "}\n",
              "\n",
              "/* Estimator-specific style */\n",
              "\n",
              "/* Colorize estimator box */\n",
              "#sk-container-id-1 div.sk-estimator input.sk-toggleable__control:checked~label.sk-toggleable__label {\n",
              "  /* unfitted */\n",
              "  background-color: var(--sklearn-color-unfitted-level-2);\n",
              "}\n",
              "\n",
              "#sk-container-id-1 div.sk-estimator.fitted input.sk-toggleable__control:checked~label.sk-toggleable__label {\n",
              "  /* fitted */\n",
              "  background-color: var(--sklearn-color-fitted-level-2);\n",
              "}\n",
              "\n",
              "#sk-container-id-1 div.sk-label label.sk-toggleable__label,\n",
              "#sk-container-id-1 div.sk-label label {\n",
              "  /* The background is the default theme color */\n",
              "  color: var(--sklearn-color-text-on-default-background);\n",
              "}\n",
              "\n",
              "/* On hover, darken the color of the background */\n",
              "#sk-container-id-1 div.sk-label:hover label.sk-toggleable__label {\n",
              "  color: var(--sklearn-color-text);\n",
              "  background-color: var(--sklearn-color-unfitted-level-2);\n",
              "}\n",
              "\n",
              "/* Label box, darken color on hover, fitted */\n",
              "#sk-container-id-1 div.sk-label.fitted:hover label.sk-toggleable__label.fitted {\n",
              "  color: var(--sklearn-color-text);\n",
              "  background-color: var(--sklearn-color-fitted-level-2);\n",
              "}\n",
              "\n",
              "/* Estimator label */\n",
              "\n",
              "#sk-container-id-1 div.sk-label label {\n",
              "  font-family: monospace;\n",
              "  font-weight: bold;\n",
              "  display: inline-block;\n",
              "  line-height: 1.2em;\n",
              "}\n",
              "\n",
              "#sk-container-id-1 div.sk-label-container {\n",
              "  text-align: center;\n",
              "}\n",
              "\n",
              "/* Estimator-specific */\n",
              "#sk-container-id-1 div.sk-estimator {\n",
              "  font-family: monospace;\n",
              "  border: 1px dotted var(--sklearn-color-border-box);\n",
              "  border-radius: 0.25em;\n",
              "  box-sizing: border-box;\n",
              "  margin-bottom: 0.5em;\n",
              "  /* unfitted */\n",
              "  background-color: var(--sklearn-color-unfitted-level-0);\n",
              "}\n",
              "\n",
              "#sk-container-id-1 div.sk-estimator.fitted {\n",
              "  /* fitted */\n",
              "  background-color: var(--sklearn-color-fitted-level-0);\n",
              "}\n",
              "\n",
              "/* on hover */\n",
              "#sk-container-id-1 div.sk-estimator:hover {\n",
              "  /* unfitted */\n",
              "  background-color: var(--sklearn-color-unfitted-level-2);\n",
              "}\n",
              "\n",
              "#sk-container-id-1 div.sk-estimator.fitted:hover {\n",
              "  /* fitted */\n",
              "  background-color: var(--sklearn-color-fitted-level-2);\n",
              "}\n",
              "\n",
              "/* Specification for estimator info (e.g. \"i\" and \"?\") */\n",
              "\n",
              "/* Common style for \"i\" and \"?\" */\n",
              "\n",
              ".sk-estimator-doc-link,\n",
              "a:link.sk-estimator-doc-link,\n",
              "a:visited.sk-estimator-doc-link {\n",
              "  float: right;\n",
              "  font-size: smaller;\n",
              "  line-height: 1em;\n",
              "  font-family: monospace;\n",
              "  background-color: var(--sklearn-color-background);\n",
              "  border-radius: 1em;\n",
              "  height: 1em;\n",
              "  width: 1em;\n",
              "  text-decoration: none !important;\n",
              "  margin-left: 0.5em;\n",
              "  text-align: center;\n",
              "  /* unfitted */\n",
              "  border: var(--sklearn-color-unfitted-level-1) 1pt solid;\n",
              "  color: var(--sklearn-color-unfitted-level-1);\n",
              "}\n",
              "\n",
              ".sk-estimator-doc-link.fitted,\n",
              "a:link.sk-estimator-doc-link.fitted,\n",
              "a:visited.sk-estimator-doc-link.fitted {\n",
              "  /* fitted */\n",
              "  border: var(--sklearn-color-fitted-level-1) 1pt solid;\n",
              "  color: var(--sklearn-color-fitted-level-1);\n",
              "}\n",
              "\n",
              "/* On hover */\n",
              "div.sk-estimator:hover .sk-estimator-doc-link:hover,\n",
              ".sk-estimator-doc-link:hover,\n",
              "div.sk-label-container:hover .sk-estimator-doc-link:hover,\n",
              ".sk-estimator-doc-link:hover {\n",
              "  /* unfitted */\n",
              "  background-color: var(--sklearn-color-unfitted-level-3);\n",
              "  color: var(--sklearn-color-background);\n",
              "  text-decoration: none;\n",
              "}\n",
              "\n",
              "div.sk-estimator.fitted:hover .sk-estimator-doc-link.fitted:hover,\n",
              ".sk-estimator-doc-link.fitted:hover,\n",
              "div.sk-label-container:hover .sk-estimator-doc-link.fitted:hover,\n",
              ".sk-estimator-doc-link.fitted:hover {\n",
              "  /* fitted */\n",
              "  background-color: var(--sklearn-color-fitted-level-3);\n",
              "  color: var(--sklearn-color-background);\n",
              "  text-decoration: none;\n",
              "}\n",
              "\n",
              "/* Span, style for the box shown on hovering the info icon */\n",
              ".sk-estimator-doc-link span {\n",
              "  display: none;\n",
              "  z-index: 9999;\n",
              "  position: relative;\n",
              "  font-weight: normal;\n",
              "  right: .2ex;\n",
              "  padding: .5ex;\n",
              "  margin: .5ex;\n",
              "  width: min-content;\n",
              "  min-width: 20ex;\n",
              "  max-width: 50ex;\n",
              "  color: var(--sklearn-color-text);\n",
              "  box-shadow: 2pt 2pt 4pt #999;\n",
              "  /* unfitted */\n",
              "  background: var(--sklearn-color-unfitted-level-0);\n",
              "  border: .5pt solid var(--sklearn-color-unfitted-level-3);\n",
              "}\n",
              "\n",
              ".sk-estimator-doc-link.fitted span {\n",
              "  /* fitted */\n",
              "  background: var(--sklearn-color-fitted-level-0);\n",
              "  border: var(--sklearn-color-fitted-level-3);\n",
              "}\n",
              "\n",
              ".sk-estimator-doc-link:hover span {\n",
              "  display: block;\n",
              "}\n",
              "\n",
              "/* \"?\"-specific style due to the `<a>` HTML tag */\n",
              "\n",
              "#sk-container-id-1 a.estimator_doc_link {\n",
              "  float: right;\n",
              "  font-size: 1rem;\n",
              "  line-height: 1em;\n",
              "  font-family: monospace;\n",
              "  background-color: var(--sklearn-color-background);\n",
              "  border-radius: 1rem;\n",
              "  height: 1rem;\n",
              "  width: 1rem;\n",
              "  text-decoration: none;\n",
              "  /* unfitted */\n",
              "  color: var(--sklearn-color-unfitted-level-1);\n",
              "  border: var(--sklearn-color-unfitted-level-1) 1pt solid;\n",
              "}\n",
              "\n",
              "#sk-container-id-1 a.estimator_doc_link.fitted {\n",
              "  /* fitted */\n",
              "  border: var(--sklearn-color-fitted-level-1) 1pt solid;\n",
              "  color: var(--sklearn-color-fitted-level-1);\n",
              "}\n",
              "\n",
              "/* On hover */\n",
              "#sk-container-id-1 a.estimator_doc_link:hover {\n",
              "  /* unfitted */\n",
              "  background-color: var(--sklearn-color-unfitted-level-3);\n",
              "  color: var(--sklearn-color-background);\n",
              "  text-decoration: none;\n",
              "}\n",
              "\n",
              "#sk-container-id-1 a.estimator_doc_link.fitted:hover {\n",
              "  /* fitted */\n",
              "  background-color: var(--sklearn-color-fitted-level-3);\n",
              "}\n",
              "</style><div id=\"sk-container-id-1\" class=\"sk-top-container\"><div class=\"sk-text-repr-fallback\"><pre>MultinomialNB()</pre><b>In a Jupyter environment, please rerun this cell to show the HTML representation or trust the notebook. <br />On GitHub, the HTML representation is unable to render, please try loading this page with nbviewer.org.</b></div><div class=\"sk-container\" hidden><div class=\"sk-item\"><div class=\"sk-estimator fitted sk-toggleable\"><input class=\"sk-toggleable__control sk-hidden--visually\" id=\"sk-estimator-id-1\" type=\"checkbox\" checked><label for=\"sk-estimator-id-1\" class=\"sk-toggleable__label fitted sk-toggleable__label-arrow\"><div><div>MultinomialNB</div></div><div><a class=\"sk-estimator-doc-link fitted\" rel=\"noreferrer\" target=\"_blank\" href=\"https://scikit-learn.org/1.6/modules/generated/sklearn.naive_bayes.MultinomialNB.html\">?<span>Documentation for MultinomialNB</span></a><span class=\"sk-estimator-doc-link fitted\">i<span>Fitted</span></span></div></label><div class=\"sk-toggleable__content fitted\"><pre>MultinomialNB()</pre></div> </div></div></div></div>"
            ]
          },
          "metadata": {},
          "execution_count": 39
        }
      ]
    },
    {
      "cell_type": "markdown",
      "source": [
        "5. Đánh giá mô hình"
      ],
      "metadata": {
        "id": "tFPoIXdmwDsK"
      }
    },
    {
      "cell_type": "code",
      "source": [
        "y_pred = model.predict(X_test)\n",
        "\n",
        "print(\"Accuracy:\", accuracy_score(y_test, y_pred))\n",
        "print(\"\\nConfusion Matrix:\\n\", confusion_matrix(y_test, y_pred))\n",
        "print(\"\\nClassification Report:\\n\", classification_report(y_test, y_pred))"
      ],
      "metadata": {
        "colab": {
          "base_uri": "https://localhost:8080/"
        },
        "id": "4cnVJJMIxOXG",
        "outputId": "ac7a8874-ff92-4ebb-ddbd-0bd0ec3bb250"
      },
      "execution_count": null,
      "outputs": [
        {
          "output_type": "stream",
          "name": "stdout",
          "text": [
            "Accuracy: 0.8073846153846154\n",
            "\n",
            "Confusion Matrix:\n",
            " [[792  51]\n",
            " [262 520]]\n",
            "\n",
            "Classification Report:\n",
            "               precision    recall  f1-score   support\n",
            "\n",
            "           0       0.75      0.94      0.84       843\n",
            "           1       0.91      0.66      0.77       782\n",
            "\n",
            "    accuracy                           0.81      1625\n",
            "   macro avg       0.83      0.80      0.80      1625\n",
            "weighted avg       0.83      0.81      0.80      1625\n",
            "\n"
          ]
        }
      ]
    }
  ]
}