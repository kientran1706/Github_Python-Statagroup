{
  "cells": [
    {
      "cell_type": "code",
      "execution_count": null,
      "metadata": {
        "id": "W0CN-4Eb7pHM"
      },
      "outputs": [],
      "source": [
        "import pandas as pd\n",
        "import numpy as np\n",
        "import matplotlib.pyplot as plt\n",
        "import seaborn as sns\n",
        "from sklearn.cluster import KMeans, AgglomerativeClustering, DBSCAN\n",
        "from sklearn.metrics import silhouette_score\n",
        "from sklearn.preprocessing import StandardScaler, OneHotEncoder\n",
        "from sklearn.model_selection import train_test_split, GridSearchCV, cross_val_score\n",
        "from sklearn.ensemble import RandomForestClassifier\n",
        "from sklearn.linear_model import LogisticRegression\n",
        "from sklearn.metrics import accuracy_score, confusion_matrix, classification_report, roc_auc_score, roc_curve\n",
        "from sklearn.compose import ColumnTransformer\n",
        "from sklearn.pipeline import Pipeline\n",
        "from sklearn.decomposition import PCA\n",
        "import warnings\n",
        "warnings.filterwarnings('ignore')"
      ]
    },
    {
      "cell_type": "code",
      "execution_count": null,
      "metadata": {
        "id": "Iu2BA-2D7sia"
      },
      "outputs": [],
      "source": [
        "warnings.filterwarnings('ignore')"
      ]
    },
    {
      "cell_type": "code",
      "execution_count": null,
      "metadata": {
        "id": "3TrILANV7wLU"
      },
      "outputs": [],
      "source": [
        "data = pd.read_csv('/content/drive/MyDrive/DTCK_Rental/WHO-COVID-19-global-daily-data.csv')"
      ]
    },
    {
      "cell_type": "code",
      "execution_count": null,
      "metadata": {
        "colab": {
          "base_uri": "https://localhost:8080/",
          "height": 1000
        },
        "id": "plBj0gptNg7G",
        "outputId": "9fd056da-176b-4ec0-d1c0-1640092fbdaf"
      },
      "outputs": [],
      "source": [
        "data"
      ]
    },
    {
      "cell_type": "markdown",
      "metadata": {
        "id": "lFg6GpBH8P6A"
      },
      "source": [
        "# Insight từ EDA: Ca nhiễm cao nhất ở Americas/Europe, correlation mạnh giữa cases và deaths (0.8+).\n"
      ]
    },
    {
      "cell_type": "code",
      "execution_count": null,
      "metadata": {
        "id": "w2wDBHm78Q6i"
      },
      "outputs": [],
      "source": [
        "#Xử lý feature & tiền xử lý cho clustering\n",
        "numerical = ['Cumulative_cases', 'Cumulative_deaths', 'New_cases', 'New_deaths']\n",
        "categorical = ['continent']\n",
        "X = agg_data[numerical + categorical]"
      ]
    },
    {
      "cell_type": "code",
      "execution_count": null,
      "metadata": {
        "id": "10-KYYQ58R-C"
      },
      "outputs": [],
      "source": [
        "# Tạo target cho classification\n",
        "agg_data['risk_level'] = pd.qcut(agg_data['Cumulative_deaths'], 3, labels=['Low', 'Medium', 'High'])\n",
        "y = agg_data['risk_level']"
      ]
    },
    {
      "cell_type": "code",
      "execution_count": null,
      "metadata": {
        "id": "JzjW4Yr78SzI"
      },
      "outputs": [],
      "source": [
        "# Pipeline (giữ nhưng thêm)\n",
        "preprocessor = ColumnTransformer([\n",
        "    ('num', StandardScaler(), numerical),\n",
        "    ('cat', OneHotEncoder(), categorical)\n",
        "])"
      ]
    },
    {
      "cell_type": "code",
      "execution_count": null,
      "metadata": {
        "id": "DgaiJWsc8T5P"
      },
      "outputs": [],
      "source": [
        "# Clustering (Cải tiến: Elbow + Hierarchical + Silhouette)\n",
        "X_preprocessed = preprocessor.fit_transform(X)"
      ]
    },
    {
      "cell_type": "markdown",
      "metadata": {
        "id": "siqrpJV5Ridl"
      },
      "source": [
        "Giải thích:\n",
        "\n",
        "Tách ra biến số và biến rời rạc (categorical).\n",
        "\n",
        "Áp dụng chuẩn hóa (chuẩn z-score cho biến số) và OneHotEncoder cho dữ liệu categorical.\n",
        "\n",
        "Kết quả là một ma trận feature đã chuẩn hóa, sẵn sàng cho các thuật toán clustering."
      ]
    },
    {
      "cell_type": "code",
      "execution_count": null,
      "metadata": {
        "colab": {
          "base_uri": "https://localhost:8080/",
          "height": 452
        },
        "id": "IqRVRhdM8T1l",
        "outputId": "4c803965-f8b7-474a-c395-0212eea45fba"
      },
      "outputs": [],
      "source": [
        "# Elbow method cho KMeans\n",
        "inertias = []\n",
        "sil_scores = []\n",
        "for k in range(2, 10):\n",
        "    kmeans = KMeans(n_clusters=k, random_state=42)\n",
        "    kmeans.fit(X_preprocessed)\n",
        "    inertias.append(kmeans.inertia_)\n",
        "    sil_scores.append(silhouette_score(X_preprocessed, kmeans.labels_))\n",
        "\n",
        "plt.plot(range(2,10), inertias, marker='o')\n",
        "plt.title('Elbow Method for Optimal K')\n",
        "plt.show()"
      ]
    },
    {
      "cell_type": "markdown",
      "metadata": {
        "id": "hvoxRS7QSCSj"
      },
      "source": [
        "Tính inertia và silhouette score cho K tách cụm từ 2-9, vẽ đồ thị elbow lấy số cụm tối ưu"
      ]
    },
    {
      "cell_type": "markdown",
      "metadata": {
        "id": "IltligQyQvZw"
      },
      "source": [
        "Đây là biểu đồ elbow (khuỷu tay) dùng trong phân cụm (clustering), tiêu biểu là KMeans.\n",
        "\n",
        "Các thành phần & ý nghĩa:\n",
        "1. Trục hoành (x-axis): Số cụm (K)\n",
        "Các giá trị nguyên từ 2 đến 9, đại diện cho số lượng cụm dùng trong KMeans.\n",
        "\n",
        "2. Trục tung (y-axis): Inertia (Within-cluster sum of squares)\n",
        "Giá trị tổng bình phương khoảng cách từ mỗi điểm dữ liệu tới centroid cụm của nó (càng nhỏ, các điểm cùng cụm càng “xít lại”).\n",
        "\n",
        "Giá trị này giảm dần khi tăng số cụm.\n",
        "\n",
        "3. Đường plot\n",
        "Mỗi điểm trên đường ứng với một giá trị K, thể hiện mức độ “nén cụm” đạt được khi đặt K cụm.\n",
        "\n",
        "4. Elbow (khuỷu tay)\n",
        "Phần \"gấp khúc rõ nhất\" của biểu đồ — ở đây nằm quanh K = 3 hoặc K = 4.\n",
        "\n",
        "Ý nghĩa:\n",
        "\n",
        "Trước điểm này: Giảm K thêm giúp inertia giảm rất nhanh (chia thêm cụm thực sự giúp nhóm dữ liệu tốt hơn).\n",
        "\n",
        "Sau điểm này: Tăng tiếp K chỉ giúp inertia giảm chậm (chia thêm cụm không mang lại cải thiện lớn về “chất lượng” phân cụm).\n",
        "\n",
        "5. Cách chọn số cụm tối ưu (optimal K)\n",
        "Quan sát điểm \"elbow\" — K tại điểm gấp khúc mạnh nhất thường được chọn.\n",
        "\n",
        "Ở biểu đồ này, điểm elbow rõ ràng nhất là tại K = 3 hoặc 4."
      ]
    },
    {
      "cell_type": "code",
      "execution_count": null,
      "metadata": {
        "colab": {
          "base_uri": "https://localhost:8080/"
        },
        "id": "kdQqr-MS8Wxv",
        "outputId": "6e11ca4e-d46a-45b9-fcc2-b3461cc19ea8"
      },
      "outputs": [],
      "source": [
        "# Chọn k=3 (giả sử từ elbow), run KMeans\n",
        "kmeans = KMeans(n_clusters=3, random_state=42)\n",
        "agg_data['kmeans_cluster'] = kmeans.fit_predict(X_preprocessed)\n",
        "print(\"Silhouette Score KMeans:\", silhouette_score(X_preprocessed, agg_data['kmeans_cluster']))"
      ]
    },
    {
      "cell_type": "markdown",
      "metadata": {
        "id": "L5a1zBcMSEih"
      },
      "source": [
        "Chạy KMeans với K tối ưu đã chọn (ở đây là 3). Tính chỉ số silhouette."
      ]
    },
    {
      "cell_type": "code",
      "execution_count": null,
      "metadata": {
        "colab": {
          "base_uri": "https://localhost:8080/"
        },
        "id": "xPbNQ7x08X6Y",
        "outputId": "2beacf56-0f9e-4458-a120-130e4b9c155a"
      },
      "outputs": [],
      "source": [
        "# Hierarchical Clustering\n",
        "hier = AgglomerativeClustering(n_clusters=3)\n",
        "agg_data['hier_cluster'] = hier.fit_predict(X_preprocessed)\n",
        "print(\"Silhouette Score Hierarchical:\", silhouette_score(X_preprocessed, agg_data['hier_cluster']))"
      ]
    },
    {
      "cell_type": "markdown",
      "metadata": {
        "id": "Icu5dB1vSGKW"
      },
      "source": [
        "Áp dụng phân cụm theo dạng phân cấp/từng bước.\n"
      ]
    },
    {
      "cell_type": "code",
      "execution_count": null,
      "metadata": {
        "colab": {
          "base_uri": "https://localhost:8080/"
        },
        "id": "o8kCOSiO-cGj",
        "outputId": "b429b673-33eb-418b-dadf-4caac8ecb9b5"
      },
      "outputs": [],
      "source": [
        "# DBSCAN\n",
        "dbscan = DBSCAN(eps=0.5, min_samples=5)\n",
        "agg_data['dbscan_cluster'] = dbscan.fit_predict(X_preprocessed)\n",
        "print(\"DBSCAN Clusters:\", agg_data['dbscan_cluster'].unique())"
      ]
    },
    {
      "cell_type": "markdown",
      "metadata": {
        "id": "dVDk9u7wSJ2Q"
      },
      "source": [
        "Phân cụm với DBSCAN, xác định các cụm và noise/outlier."
      ]
    },
    {
      "cell_type": "code",
      "execution_count": null,
      "metadata": {
        "colab": {
          "base_uri": "https://localhost:8080/"
        },
        "id": "IOQ_vVkq-dkz",
        "outputId": "580ba0cb-8685-49d1-9e2d-f52c0280829c"
      },
      "outputs": [],
      "source": [
        "# Gắn nhãn cụm với continent\n",
        "cluster_continent = agg_data.groupby('hier_cluster')['continent'].value_counts().unstack().fillna(0)\n",
        "print(\"Cluster vs Continent:\\n\", cluster_continent)"
      ]
    },
    {
      "cell_type": "markdown",
      "metadata": {
        "id": "8-K4Tiu4SLOl"
      },
      "source": [
        "Dùng PCA giảm còn 2 chiều để trực quan hóa kết quả phân cụm KMeans trên mặt phẳng 2D."
      ]
    },
    {
      "cell_type": "code",
      "execution_count": null,
      "metadata": {
        "colab": {
          "base_uri": "https://localhost:8080/",
          "height": 452
        },
        "id": "cK8s5zj-8Y86",
        "outputId": "d3abd088-177f-4551-9a2b-5da4c8756d5b"
      },
      "outputs": [],
      "source": [
        "# Viz clusters\n",
        "pca = PCA(2)\n",
        "X_pca = pca.fit_transform(X_preprocessed)\n",
        "sns.scatterplot(x=X_pca[:,0], y=X_pca[:,1], hue=agg_data['kmeans_cluster'], palette='viridis')\n",
        "plt.title('KMeans Clusters (PCA Viz)')\n",
        "plt.show()"
      ]
    },
    {
      "cell_type": "markdown",
      "metadata": {
        "id": "CWgBf8QsShTL"
      },
      "source": [
        "1. Tên biểu đồ\n",
        "KMeans Clusters (PCA Viz):\n",
        "Trực quan hóa các cluster (nhóm/cụm) từ thuật toán KMeans, áp lên không gian 2 chiều bằng PCA (Principal Component Analysis).\n",
        "\n",
        "2. Trục hoành & trục tung\n",
        "Chỉ là hai thành phần chính (principal components, PC1 & PC2) từ kết quả PCA – không còn là giá trị gốc (như số ca nhiễm, tỷ lệ,...) mà là tổng hợp tuyến tính của nhiều đặc trưng.\n",
        "\n",
        "3. Điểm và màu sắc\n",
        "Mỗi dấu chấm: Đại diện cho một quốc gia/điểm dữ liệu.\n",
        "\n",
        "Màu sắc (theo chú giải legend bên phải):\n",
        "\n",
        "kmeans_cluster = 0: Một cụm (thường màu tím)\n",
        "\n",
        "kmeans_cluster = 1: Một cụm khác (thường màu xanh dương/xanh ngọc)\n",
        "\n",
        "kmeans_cluster = 2: Một cụm nữa (thường màu vàng)\n",
        "\n",
        "Các điểm cùng màu là cùng cụm do KMeans phân nhóm.\n",
        "\n",
        "4. Nhận xét hình học\n",
        "Các cụm nằm khá tách biệt trên mặt phẳng PCA (mặc dù có thể hơi chồng lấn tại tâm).\n",
        "\n",
        "Một số điểm nằm tách biệt hẳn bên phải → có thể là các quốc gia \"đặc biệt\" so với phần lớn còn lại (outlier, hoặc những nước có số ca vượt trội hoặc thấp hẳn).\n",
        "\n",
        "5. Ý nghĩa phân tích\n",
        "Nhóm lại các nước có đặc điểm dịch tễ COVID-19 \"giống nhau\" (theo các biến gốc, đã xử lý-noi, chuẩn hóa, one-hot,...).\n",
        "\n",
        "Nhìn nhanh các cụm có rõ ràng không? Sự khác biệt giữa các quốc gia về tình hình dịch tễ được mô hình phân biệt mạnh – yếu ở mức độ nào (các cụm tách biệt hơn là tốt)."
      ]
    },
    {
      "cell_type": "markdown",
      "metadata": {
        "id": "dmyY50308ag4"
      },
      "source": [
        "# Insight Clustering (RQ2): Cụm 0: Quốc gia thấp rủi ro (Africa/SEAR), Cụm 1: Trung bình, Cụm 2: Cao (Europe/Americas)."
      ]
    },
    {
      "cell_type": "code",
      "execution_count": null,
      "metadata": {
        "id": "pUbIa1Us8bxZ"
      },
      "outputs": [],
      "source": [
        "# Classification\n",
        "X_train, X_test, y_train, y_test = train_test_split(X, y, test_size=0.2, random_state=42)"
      ]
    },
    {
      "cell_type": "markdown",
      "metadata": {
        "id": "gaeDsBT0TNZK"
      },
      "source": [
        "train_test_split: Hàm chia bộ dữ liệu thành tập huấn luyện/train (80%) và kiểm thử/test (20%).\n",
        "\n",
        "X: Tập feature (biến đầu vào).\n",
        "\n",
        "y: Nhãn phân lớp (ví dụ: ‘risk_level’).\n",
        "\n",
        "test_size=0.2: Kích thước tập test là 20% tổng dữ liệu.\n",
        "\n",
        "random_state=42: Đảm bảo kết quả chia là cố định (mọi lần chạy ra cùng kết quả)."
      ]
    },
    {
      "cell_type": "code",
      "execution_count": null,
      "metadata": {
        "id": "ZgDd-Epu8crC"
      },
      "outputs": [],
      "source": [
        "# Pipeline với GridSearch cho RandomForest\n",
        "rf_pipeline = Pipeline([\n",
        "    ('preprocessor', preprocessor),\n",
        "    ('classifier', RandomForestClassifier(random_state=42))\n",
        "])"
      ]
    },
    {
      "cell_type": "markdown",
      "metadata": {
        "id": "bRGIiar2TQXX"
      },
      "source": [
        "Pipeline: Chuỗi các bước tiền xử lý rồi huấn luyện model liền nhau.\n",
        "\n",
        "preprocessor: Tiền xử lý feature (chuẩn hóa, one-hot...).\n",
        "\n",
        "classifier: Model phân loại – ở đây là RandomForest."
      ]
    },
    {
      "cell_type": "code",
      "execution_count": null,
      "metadata": {
        "id": "s1hyW2a4_ew6"
      },
      "outputs": [],
      "source": [
        "param_grid = {'classifier__n_estimators': [50, 100], 'classifier__max_depth': [5, 10]}\n",
        "grid_search = GridSearchCV(rf_pipeline, param_grid, cv=5)"
      ]
    },
    {
      "cell_type": "markdown",
      "metadata": {
        "id": "AquEgToqTSXd"
      },
      "source": [
        "param_grid: Tập các giá trị siêu tham số cần thử cho model:\n",
        "\n",
        "n_estimators: số lượng cây trong rừng ngẫu nhiên (RF).\n",
        "\n",
        "max_depth: độ sâu tối đa mỗi cây.\n",
        "\n",
        "cv=5: 5-fold cross validation."
      ]
    },
    {
      "cell_type": "code",
      "execution_count": null,
      "metadata": {
        "colab": {
          "base_uri": "https://localhost:8080/",
          "height": 804
        },
        "id": "lUOYxVcT_fLX",
        "outputId": "05f66ec8-9c16-4711-e14d-a44829df2fdc"
      },
      "outputs": [],
      "source": [
        "grid_search.fit(X_train, y_train)"
      ]
    },
    {
      "cell_type": "markdown",
      "metadata": {
        "id": "eSVr1hoiTUDo"
      },
      "source": [
        "Tự động thử tất cả combination của n_estimators & max_depth, đánh giá từng mô hình qua CV, rồi trả về mô hình tốt nhất."
      ]
    },
    {
      "cell_type": "code",
      "execution_count": null,
      "metadata": {
        "colab": {
          "base_uri": "https://localhost:8080/"
        },
        "id": "wPeZjGLX8ddl",
        "outputId": "e3feb2ca-1b21-4cee-cd2d-e26240e3a209"
      },
      "outputs": [],
      "source": [
        "print(\"Best Params RF:\", grid_search.best_params_)\n",
        "print(\"Accuracy RF:\", accuracy_score(y_test, grid_search.predict(X_test)))"
      ]
    },
    {
      "cell_type": "markdown",
      "metadata": {
        "id": "hZZ_prmBTVSY"
      },
      "source": [
        "best_params_: Siêu tham số tối ưu vừa tìm được.\n",
        "\n",
        "accuracy_score: Độ chính xác của model tốt nhất trên tập test."
      ]
    },
    {
      "cell_type": "code",
      "execution_count": null,
      "metadata": {
        "colab": {
          "base_uri": "https://localhost:8080/"
        },
        "id": "Haqylp7F8eiG",
        "outputId": "e1396f20-4cb6-4abd-bd0f-09a259557b4f"
      },
      "outputs": [],
      "source": [
        "# Fix CV\n",
        "cv_scores = cross_val_score(grid_search.best_estimator_, X, y, cv=5)\n",
        "print(\"CV Mean Score RF:\", cv_scores.mean())"
      ]
    },
    {
      "cell_type": "markdown",
      "metadata": {
        "id": "Rjjc4WC4TZPt"
      },
      "source": [
        "cross_val_score: Đánh giá chính xác bằng cách train/test 5 lần khác nhau trên toàn bộ data chia đều (tiêu chuẩn hóa đánh giá).\n",
        "\n",
        "cv_scores.mean(): Giá trị trung bình của các lần cross-validation – thể hiện độ bền của model."
      ]
    },
    {
      "cell_type": "code",
      "execution_count": null,
      "metadata": {
        "colab": {
          "base_uri": "https://localhost:8080/"
        },
        "id": "qSlFmVjd8gXT",
        "outputId": "72b2d9c9-9fee-45bb-cdb1-1f5502a15b87"
      },
      "outputs": [],
      "source": [
        "# Logistic Regression\n",
        "log_pipeline = Pipeline([\n",
        "    ('preprocessor', preprocessor),\n",
        "    ('classifier', LogisticRegression(random_state=42))\n",
        "])\n",
        "log_pipeline.fit(X_train, y_train)\n",
        "print(\"Accuracy Logistic:\", accuracy_score(y_test, log_pipeline.predict(X_test)))"
      ]
    },
    {
      "cell_type": "markdown",
      "metadata": {
        "id": "Hg6SYqpFTXKh"
      },
      "source": [
        "Tạo pipeline giống RF nhưng thay RandomForest bằng LogisticRegression.\n",
        "\n",
        "Huấn luyện, và tính độ chính xác trên tập test như phương pháp phía trên."
      ]
    },
    {
      "cell_type": "code",
      "execution_count": null,
      "metadata": {
        "colab": {
          "base_uri": "https://localhost:8080/",
          "height": 452
        },
        "id": "ZpysXuvz8iL5",
        "outputId": "4facb373-2697-47d4-b5b8-59581f06cd88"
      },
      "outputs": [],
      "source": [
        "# Confusion Matrix Heatmap\n",
        "sns.heatmap(confusion_matrix(y_test, grid_search.predict(X_test)), annot=True, cmap='Blues')\n",
        "plt.title('Confusion Matrix RF')\n",
        "plt.show()"
      ]
    },
    {
      "cell_type": "markdown",
      "metadata": {
        "id": "OtN4I23DTeiW"
      },
      "source": [
        "confusion_matrix: Ma trận đếm số mẫu dự đoán đúng/sai mỗi lớp (thường dùng cho classification).\n",
        "\n",
        "sns.heatmap: Vẽ ma trận nhầm lẫn dưới dạng heatmap để trực quan hóa.\n",
        "\n",
        "annot=True: hiển thị số ngay trong từng ô\n",
        "\n",
        "cmap='Blues': dùng bảng màu xanh.\n",
        "\n",
        "Giải thích từng thành phần trên hình:\n",
        "1. Trục ngang & trục dọc\n",
        "Trục dọc (hàng, axis 0): Lớp thực tế (True label): 0, 1, 2\n",
        "\n",
        "Trục ngang (cột, axis 1): Lớp dự đoán bởi mô hình (Predicted label): 0, 1, 2\n",
        "\n",
        "2. Các giá trị trong ma trận\n",
        "[i, j]: Số trường hợp thực tế là lớp i nhưng dự đoán là lớp j.\n",
        "\n",
        "3. Ý nghĩa từng giá trị thực tế\n",
        "Pred=0\tPred=1\tPred=2\n",
        "True=0\t20\t0\t0\n",
        "True=1\t0\t13\t0\n",
        "True=2\t1\t1\t13\n",
        "Lớp 0: Có 20 mẫu thực tế là 0 → dự đoán đúng cả 20 (ô ); không nhầm lẫn sang các lớp khác.\n",
        "\n",
        "Lớp 1: Có 13 mẫu thực tế là 1 → dự đoán đúng cả 13 (ô ); không nhầm lẫn.​\n",
        "\n",
        "Lớp 2: Có 13 mẫu dự đoán đúng (ô ); 1 mẫu lớp 2 lại dự đoán nhầm thành lớp 0, 1 mẫu nhầm thành lớp 1 (ô và ).​\n",
        "\n",
        "4. Nhận xét hiệu năng\n",
        "Độ chính xác mô hình khá cao:\n",
        "\n",
        "Lớp 0 và lớp 1: 100% dự đoán đúng.\n",
        "\n",
        "Lớp 2: 15 mẫu, dự đoán đúng 13, chỉ 2 mẫu nhầm (1 vào lớp 0, 1 vào lớp 1).\n",
        "\n",
        "Confusion matrix này cho thấy mô hình dự đoán tuyệt đối tốt với lớp 0 và lớp 1, chỉ có chút nhầm lẫn với lớp 2."
      ]
    },
    {
      "cell_type": "code",
      "execution_count": null,
      "metadata": {
        "colab": {
          "base_uri": "https://localhost:8080/",
          "height": 489
        },
        "id": "CHrp_-5C-ryq",
        "outputId": "789b74b3-f142-48a7-8321-e34f0381d6ce"
      },
      "outputs": [],
      "source": [
        "# ROC Curve\n",
        "y_prob = grid_search.predict_proba(X_test)\n",
        "# Giả sử multiclass, dùng one-vs-rest\n",
        "y_bin = pd.get_dummies(y_test)\n",
        "roc_auc = roc_auc_score(y_bin, y_prob, multi_class='ovr')\n",
        "print(\"ROC AUC RF:\", roc_auc)\n",
        "\n",
        "fpr = dict()\n",
        "tpr = dict()\n",
        "for i in range(3):\n",
        "    fpr[i], tpr[i], _ = roc_curve(y_bin.iloc[:, i], y_prob[:, i])\n",
        "    plt.plot(fpr[i], tpr[i], label=f'Class {i}')\n",
        "plt.title('ROC Curve RF')\n",
        "plt.xlabel('False Positive Rate')\n",
        "plt.ylabel('True Positive Rate')\n",
        "plt.legend()\n",
        "plt.show()"
      ]
    },
    {
      "cell_type": "markdown",
      "metadata": {
        "id": "W0Kcl1aoUyzR"
      },
      "source": [
        "Giải thích từng dòng:\n",
        "predict_proba(X_test): Lấy xác suất dự báo cho từng lớp (thay vì nhãn cứng).\n",
        "\n",
        "get_dummies(y_test): One-hot encoding cho y_test (thành các cột lớp 0, 1, 2).\n",
        "\n",
        "roc_auc_score(..., multi_class='ovr'): Tính điểm AUC tổng cho mô hình đa lớp (one-vs-rest).\n",
        "\n",
        "Tạo ROC từng lớp (for i in range(3)) – với fpr (false positive rate) và tpr (true positive rate).\n",
        "\n",
        "plt.plot(...): Vẽ ROC curve từng lớp.\n",
        "\n",
        "Hình:\n",
        "Đường cong ROC cho từng class (Class 0, 1, 2).\n",
        "\n",
        "Trục X: Sai dương (FPR), Trục Y: Đúng dương (TPR).\n",
        "\n",
        "Đường càng đi gần góc trái trên càng tốt (model dự đoán càng phân biệt tốt)."
      ]
    },
    {
      "cell_type": "code",
      "execution_count": null,
      "metadata": {
        "colab": {
          "base_uri": "https://localhost:8080/"
        },
        "id": "5qYiw-sB-ttU",
        "outputId": "5a97a567-dbd9-4dd0-904f-2b8b099e70d8"
      },
      "outputs": [],
      "source": [
        "# Báo cáo\n",
        "print(classification_report(y_test, grid_search.predict(X_test)))"
      ]
    },
    {
      "cell_type": "markdown",
      "metadata": {
        "id": "LLOHWVgKU1Qs"
      },
      "source": [
        "Giải thích:\n",
        "Tạo báo cáo với precision, recall, f1-score từng lớp và tổng thể.\n",
        "\n",
        "precision\trecall\tf1-score\tsupport\n",
        "High\t0.95\t1.00\t0.98\t20\n",
        "Low\t0.93\t1.00\t0.96\t13\n",
        "Medium\t1.00\t0.87\t0.93\t15\n",
        "macro avg\t0.96\t0.96\t0.96\t48\n",
        "weighted avg\t0.96\t0.96\t0.96\t48\n",
        "Precision: Dự báo đúng chia cho tất cả dự báo cho lớp đó.\n",
        "\n",
        "Recall: Số đúng chia cho toàn bộ thực tế lớp đó.\n",
        "\n",
        "F1: Trung bình điều hòa giữa precision & recall.\n",
        "\n",
        "Support: Số mẫu mỗi lớp.\n",
        "\n",
        "Nhận xét:\n",
        "Các lớp đều có precision và recall rất cao (>0.93), F1-score đồng đều – chứng tỏ model cực kỳ tốt.\n",
        "\n",
        "Đặc biệt: Medium recall thấp nhất (0.87), dễ bị nhầm (xem confusion matrix ở trên)."
      ]
    },
    {
      "cell_type": "code",
      "execution_count": null,
      "metadata": {
        "colab": {
          "base_uri": "https://localhost:8080/",
          "height": 472
        },
        "id": "YPgNkMgh7e1a",
        "outputId": "a9116cef-bdc8-48bf-c09c-1f831f0cf318"
      },
      "outputs": [],
      "source": [
        "# Feature Importance\n",
        "best_rf = grid_search.best_estimator_.named_steps['classifier']\n",
        "num_features = numerical\n",
        "cat_features = preprocessor.named_transformers_['cat'].get_feature_names_out(categorical)\n",
        "all_features = np.concatenate([num_features, cat_features])\n",
        "importances = best_rf.feature_importances_\n",
        "importance_df = pd.DataFrame({'Feature': all_features, 'Importance': importances}).sort_values('Importance', ascending=False)\n",
        "sns.barplot(x='Importance', y='Feature', data=importance_df)\n",
        "plt.title('Feature Importance RF')\n",
        "plt.show()"
      ]
    },
    {
      "cell_type": "markdown",
      "metadata": {
        "id": "TZbAHoGwU2tQ"
      },
      "source": [
        "Giải thích:\n",
        "Lấy các tên feature (cả số và one-hot categorical).\n",
        "\n",
        "Sử dụng thuộc tính .feature_importances_ của RandomForest để đo lường tầm quan trọng mỗi biến.\n",
        "\n",
        "Vẽ barplot thể hiện độ quan trọng.\n",
        "\n",
        "Hình:\n",
        "Biến Cumulative_deaths quan trọng nhất, tiếp đến là New_deaths, New_cases, Cumulative_cases.\n",
        "\n",
        "Các biến continent chỉ đóng vai trò nhỏ (tiến gần 0).\n",
        "\n",
        "Ý nghĩa:\n",
        "Random Forest dựa chủ yếu vào dữ liệu số ca/to tử vong; vị trí châu lục chỉ ảnh hưởng nhỏ."
      ]
    },
    {
      "cell_type": "markdown",
      "metadata": {
        "id": "dJY2UEBx8jRO"
      },
      "source": [
        "# Insight Classification (RQ3): Deaths và Cases là yếu tố quan trọng nhất dự đoán rủi ro. Accuracy ~80-90% tùy data.\n"
      ]
    },
    {
      "cell_type": "code",
      "execution_count": null,
      "metadata": {
        "colab": {
          "base_uri": "https://localhost:8080/",
          "height": 580
        },
        "id": "zHQzp1ND-wNq",
        "outputId": "e3048460-e673-471b-fd8b-2058c1887003"
      },
      "outputs": [],
      "source": [
        "# Viz thêm: Bar chart\n",
        "sns.barplot(x='continent', y='New_cases', data=agg_data, estimator=np.mean)\n",
        "plt.title('Average New Cases by Continent')\n",
        "plt.xticks(rotation=45)\n",
        "plt.show()"
      ]
    },
    {
      "cell_type": "markdown",
      "metadata": {
        "id": "-zKdeO5fU5d0"
      },
      "source": [
        "Giải thích:\n",
        "Vẽ cột trung bình số ca mới từng châu lục.\n",
        "\n",
        "estimator=np.mean: Tính trung bình từng nhóm.\n",
        "\n",
        "Hình:\n",
        "Europe: Có trung bình số ca mới cao nhất, tiếp theo là Americas.\n",
        "\n",
        "Các châu lục như Africa, Western Pacific thấp hẳn.\n",
        "\n",
        "Ý nghĩa:\n",
        "Dữ liệu cho thấy mức độ dịch COVID bùng phát mạnh nhất tại châu Âu."
      ]
    }
  ],
  "metadata": {
    "colab": {
      "provenance": []
    },
    "kernelspec": {
      "display_name": "Python 3",
      "name": "python3"
    },
    "language_info": {
      "name": "python"
    }
  },
  "nbformat": 4,
  "nbformat_minor": 0
}
